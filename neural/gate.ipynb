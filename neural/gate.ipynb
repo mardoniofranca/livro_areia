{
 "cells": [
  {
   "cell_type": "markdown",
   "metadata": {},
   "source": [
    "# porta lógica XOR"
   ]
  },
  {
   "cell_type": "code",
   "execution_count": 19,
   "metadata": {},
   "outputs": [],
   "source": [
    "x1 = [0,0,1,1] #entradas\n",
    "x2 = [0,1,0,1]"
   ]
  },
  {
   "cell_type": "code",
   "execution_count": 20,
   "metadata": {},
   "outputs": [],
   "source": [
    "y = [0,1,1,0]"
   ]
  },
  {
   "cell_type": "code",
   "execution_count": 21,
   "metadata": {},
   "outputs": [],
   "source": [
    "def xor(a,b):\n",
    "    valor = a - b\n",
    "    if valor > 0 :\n",
    "        return valor\n",
    "    else:\n",
    "        return (-1)*valor"
   ]
  },
  {
   "cell_type": "code",
   "execution_count": 22,
   "metadata": {},
   "outputs": [
    {
     "name": "stdout",
     "output_type": "stream",
     "text": [
      "0 - 0 - 0\n",
      "0 - 1 - 1\n",
      "1 - 0 - 1\n",
      "1 - 1 - 0\n"
     ]
    }
   ],
   "source": [
    "for i in range(0,4):\n",
    "    print(x1[i],'-',x2[i],'-',y[i])"
   ]
  },
  {
   "cell_type": "code",
   "execution_count": 25,
   "metadata": {},
   "outputs": [
    {
     "name": "stdout",
     "output_type": "stream",
     "text": [
      "0 - 0 XOR GATE :  0\n",
      "0 - 1 XOR GATE :  1\n",
      "1 - 0 XOR GATE :  1\n",
      "1 - 1 XOR GATE :  0\n"
     ]
    }
   ],
   "source": [
    "for i in range(0,4):\n",
    "    print(x1[i],'-',x2[i], \"XOR GATE : \", xor(x1[i], x2[i]))"
   ]
  },
  {
   "cell_type": "code",
   "execution_count": 26,
   "metadata": {},
   "outputs": [],
   "source": [
    "def maiorque(a,b):\n",
    "    if (a>b):\n",
    "        return a\n",
    "    else:\n",
    "        return b"
   ]
  },
  {
   "cell_type": "code",
   "execution_count": 27,
   "metadata": {},
   "outputs": [
    {
     "data": {
      "text/plain": [
       "10"
      ]
     },
     "execution_count": 27,
     "metadata": {},
     "output_type": "execute_result"
    }
   ],
   "source": [
    "maiorque(10,2)"
   ]
  },
  {
   "cell_type": "code",
   "execution_count": 28,
   "metadata": {},
   "outputs": [
    {
     "data": {
      "text/plain": [
       "30"
      ]
     },
     "execution_count": 28,
     "metadata": {},
     "output_type": "execute_result"
    }
   ],
   "source": [
    "maiorque(11,30)"
   ]
  },
  {
   "cell_type": "markdown",
   "metadata": {},
   "source": [
    "# XAND "
   ]
  },
  {
   "cell_type": "code",
   "execution_count": 29,
   "metadata": {},
   "outputs": [],
   "source": [
    "x1 = [0,0,1,1] #entradas\n",
    "x2 = [0,1,0,1]\n",
    "y  = [1,0,0,1]"
   ]
  },
  {
   "cell_type": "code",
   "execution_count": 30,
   "metadata": {},
   "outputs": [],
   "source": [
    "def xand(a,b):\n",
    "    valor = a - b\n",
    "    if valor == 0 :\n",
    "        return 1\n",
    "    else:\n",
    "        return 0"
   ]
  },
  {
   "cell_type": "code",
   "execution_count": 32,
   "metadata": {},
   "outputs": [
    {
     "name": "stdout",
     "output_type": "stream",
     "text": [
      "0 - 0 XAND GATE :  1\n",
      "0 - 1 XAND GATE :  0\n",
      "1 - 0 XAND GATE :  0\n",
      "1 - 1 XAND GATE :  1\n"
     ]
    }
   ],
   "source": [
    "for i in range(0,4):\n",
    "    print(x1[i],'-',x2[i], \"XAND GATE : \", xand(x1[i], x2[i]))"
   ]
  },
  {
   "cell_type": "code",
   "execution_count": null,
   "metadata": {},
   "outputs": [],
   "source": []
  }
 ],
 "metadata": {
  "kernelspec": {
   "display_name": "Python 3",
   "language": "python",
   "name": "python3"
  },
  "language_info": {
   "codemirror_mode": {
    "name": "ipython",
    "version": 3
   },
   "file_extension": ".py",
   "mimetype": "text/x-python",
   "name": "python",
   "nbconvert_exporter": "python",
   "pygments_lexer": "ipython3",
   "version": "3.6.9"
  }
 },
 "nbformat": 4,
 "nbformat_minor": 4
}
