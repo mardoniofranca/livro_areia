{
 "cells": [
  {
   "cell_type": "code",
   "execution_count": 1,
   "metadata": {},
   "outputs": [],
   "source": [
    "import numpy as np \n",
    "from matplotlib import pyplot as plt "
   ]
  },
  {
   "cell_type": "code",
   "execution_count": 2,
   "metadata": {},
   "outputs": [],
   "source": [
    "# Sigmoid Function \n",
    "def sigmoid(z): \n",
    "    return 1 / (1 + np.exp(-z))"
   ]
  },
  {
   "cell_type": "code",
   "execution_count": 3,
   "metadata": {},
   "outputs": [],
   "source": [
    "# Initialization of the neural network parameters \n",
    "# Initialized all the weights in the range of between 0 and 1 \n",
    "# Bias values are initialized to 0 \n",
    "def initializeParameters(inputFeatures, neuronsInHiddenLayers, outputFeatures): \n",
    "    W1 = np.random.randn(neuronsInHiddenLayers, inputFeatures) \n",
    "    W2 = np.random.randn(outputFeatures, neuronsInHiddenLayers) \n",
    "    b1 = np.zeros((neuronsInHiddenLayers, 1)) \n",
    "    b2 = np.zeros((outputFeatures, 1)) \n",
    "      \n",
    "    parameters = {\"W1\" : W1, \"b1\": b1, \n",
    "                  \"W2\" : W2, \"b2\": b2} \n",
    "    return parameters "
   ]
  },
  {
   "cell_type": "code",
   "execution_count": 4,
   "metadata": {},
   "outputs": [],
   "source": [
    "# Forward Propagation \n",
    "def forwardPropagation(X, Y, parameters): \n",
    "    m = X.shape[1] \n",
    "    W1 = parameters[\"W1\"] \n",
    "    W2 = parameters[\"W2\"] \n",
    "    b1 = parameters[\"b1\"] \n",
    "    b2 = parameters[\"b2\"] \n",
    "  \n",
    "    Z1 = np.dot(W1, X) + b1 \n",
    "    A1 = sigmoid(Z1) \n",
    "    \n",
    "    Z2 = np.dot(W2, A1) + b2 \n",
    "    A2 = sigmoid(Z2) \n",
    "  \n",
    "    cache = (Z1, A1, W1, b1, Z2, A2, W2, b2) \n",
    "    \n",
    "    logprobs = np.multiply(np.log(A2), Y) + np.multiply(np.log(1 - A2), (1 - Y))  #cross entropy\n",
    "    \n",
    "    cost = -np.sum(logprobs) / m      \n",
    "    \n",
    "    return cost, cache, A2 "
   ]
  },
  {
   "cell_type": "code",
   "execution_count": 5,
   "metadata": {},
   "outputs": [],
   "source": [
    "# Backward Propagation \n",
    "def backwardPropagation(X, Y, cache): \n",
    "    m = X.shape[1] \n",
    "    (Z1, A1, W1, b1, Z2, A2, W2, b2) = cache \n",
    "      \n",
    "    dZ2 = A2 - Y \n",
    "    dW2 = np.dot(dZ2, A1.T) / m \n",
    "    db2 = np.sum(dZ2, axis = 1, keepdims = True) \n",
    "      \n",
    "    dA1 = np.dot(W2.T, dZ2) \n",
    "    dZ1 = np.multiply(dA1, A1 * (1- A1)) \n",
    "    dW1 = np.dot(dZ1, X.T) / m \n",
    "    db1 = np.sum(dZ1, axis = 1, keepdims = True) / m \n",
    "      \n",
    "    gradients = {\"dZ2\": dZ2, \"dW2\": dW2, \"db2\": db2, \n",
    "                 \"dZ1\": dZ1, \"dW1\": dW1, \"db1\": db1} \n",
    "    return gradients "
   ]
  },
  {
   "cell_type": "code",
   "execution_count": 6,
   "metadata": {},
   "outputs": [],
   "source": [
    "# Updating the weights based on the negative gradients \n",
    "def updateParameters(parameters, gradients, learningRate): \n",
    "    parameters[\"W1\"] = parameters[\"W1\"] - learningRate * gradients[\"dW1\"] \n",
    "    parameters[\"W2\"] = parameters[\"W2\"] - learningRate * gradients[\"dW2\"] \n",
    "    parameters[\"b1\"] = parameters[\"b1\"] - learningRate * gradients[\"db1\"] \n",
    "    parameters[\"b2\"] = parameters[\"b2\"] - learningRate * gradients[\"db2\"] \n",
    "    return parameters "
   ]
  },
  {
   "cell_type": "code",
   "execution_count": 7,
   "metadata": {},
   "outputs": [],
   "source": [
    "# Model to learn the XOR truth table  \n",
    "X = np.array([[0, 0, 1, 1], [0, 1, 0, 1]]) # XOR input \n",
    "Y = np.array([[0, 1, 1, 0]]) # XOR output "
   ]
  },
  {
   "cell_type": "code",
   "execution_count": 8,
   "metadata": {},
   "outputs": [],
   "source": [
    "# Define model parameters \n",
    "neuronsInHiddenLayers = 2 # number of hidden layer neurons (2) \n",
    "inputFeatures = X.shape[0] # number of input features (2) \n",
    "outputFeatures = Y.shape[0] # number of output features (1) \n",
    "parameters = initializeParameters(inputFeatures, neuronsInHiddenLayers, outputFeatures) \n",
    "epoch = 100000\n",
    "learningRate = 0.01\n",
    "losses = np.zeros((epoch, 1)) "
   ]
  },
  {
   "cell_type": "code",
   "execution_count": 9,
   "metadata": {},
   "outputs": [],
   "source": [
    "for i in range(epoch): \n",
    "    losses[i, 0], cache, A2 = forwardPropagation(X, Y, parameters) \n",
    "    gradients = backwardPropagation(X, Y, cache) \n",
    "    parameters = updateParameters(parameters, gradients, learningRate) "
   ]
  },
  {
   "cell_type": "code",
   "execution_count": 10,
   "metadata": {},
   "outputs": [
    {
     "data": {
      "image/png": "[encoded data removed]",
      "text/plain": [
       "<Figure size 432x288 with 1 Axes>"
      ]
     },
     "metadata": {
      "needs_background": "light"
     },
     "output_type": "display_data"
    }
   ],
   "source": [
    "# Evaluating the performance \n",
    "plt.figure() \n",
    "plt.plot(losses) \n",
    "plt.xlabel(\"EPOCHS\") \n",
    "plt.ylabel(\"Loss value\") \n",
    "plt.show()  "
   ]
  },
  {
   "cell_type": "code",
   "execution_count": 11,
   "metadata": {},
   "outputs": [],
   "source": [
    "# Testing \n",
    "X = np.array([[0, 0, 1, 1], [0, 1, 0, 1]]) # XOR input \n",
    "cost, cache , A2 = forwardPropagation(X, Y, parameters) \n",
    "prediction = (A2 > 0.5) * 1.0\n",
    "\n",
    "\n",
    "#[0,0],[0,1],[1,0],[1,1]"
   ]
  },
  {
   "cell_type": "code",
   "execution_count": 12,
   "metadata": {},
   "outputs": [
    {
     "name": "stdout",
     "output_type": "stream",
     "text": [
      "0.026008943110935906\n"
     ]
    }
   ],
   "source": [
    "print(cost) "
   ]
  },
  {
   "cell_type": "code",
   "execution_count": 13,
   "metadata": {},
   "outputs": [
    {
     "name": "stdout",
     "output_type": "stream",
     "text": [
      "(array([[ -3.3694527 , -10.41620874,   2.80271107,  -4.24404498],\n",
      "       [ -2.66405111,   2.28410426,  -7.70151573,  -2.75336036]]), array([[3.32639042e-02, 2.99422903e-05, 9.42822149e-01, 1.41464378e-02],\n",
      "       [6.51282402e-02, 9.07551977e-01, 4.51936998e-04, 5.98971500e-02]]), array([[ 6.17216377, -7.04675605],\n",
      "       [-5.03746462,  4.94815537]]), array([[-3.3694527 ],\n",
      "       [-2.66405111]]), array([[-3.50968723,  3.49695901,  3.86125001, -3.72169439]]), array([[0.02903785, 0.97060112, 0.97939195, 0.02362147]]), array([[8.71974341, 8.6612444 ]]), array([[-4.36383155]]))\n"
     ]
    }
   ],
   "source": [
    "print(cache)"
   ]
  },
  {
   "cell_type": "code",
   "execution_count": 14,
   "metadata": {},
   "outputs": [
    {
     "name": "stdout",
     "output_type": "stream",
     "text": [
      "[[0.02903785 0.97060112 0.97939195 0.02362147]]\n"
     ]
    }
   ],
   "source": [
    "print(A2)"
   ]
  },
  {
   "cell_type": "code",
   "execution_count": 15,
   "metadata": {},
   "outputs": [
    {
     "name": "stdout",
     "output_type": "stream",
     "text": [
      "[[0. 1. 1. 0.]]\n"
     ]
    }
   ],
   "source": [
    "print(prediction)"
   ]
  },
  {
   "cell_type": "code",
   "execution_count": null,
   "metadata": {},
   "outputs": [],
   "source": [
    "#X = np.array([[1, 1, 0, 0], [0, 1, 0, 1]]\n",
    "#Y = np.array([[0, 1, 1, 0]]) # XOR output "
   ]
  },
  {
   "cell_type": "code",
   "execution_count": null,
   "metadata": {},
   "outputs": [],
   "source": []
  },
  {
   "cell_type": "code",
   "execution_count": null,
   "metadata": {},
   "outputs": [],
   "source": []
  },
  {
   "cell_type": "code",
   "execution_count": null,
   "metadata": {},
   "outputs": [],
   "source": []
  }
 ],
 "metadata": {
  "kernelspec": {
   "display_name": "Python 3",
   "language": "python",
   "name": "python3"
  },
  "language_info": {
   "codemirror_mode": {
    "name": "ipython",
    "version": 3
   },
   "file_extension": ".py",
   "mimetype": "text/x-python",
   "name": "python",
   "nbconvert_exporter": "python",
   "pygments_lexer": "ipython3",
   "version": "3.6.9"
  }
 },
 "nbformat": 4,
 "nbformat_minor": 4
}
