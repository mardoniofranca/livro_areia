{
 "cells": [
  {
   "cell_type": "code",
   "execution_count": 1,
   "metadata": {
    "collapsed": true,
    "jupyter": {
     "outputs_hidden": true,
     "source_hidden": true
    }
   },
   "outputs": [],
   "source": [
    "import pandas as pd\n",
    "import numpy as np\n",
    "import matplotlib.pyplot as plt\n",
    "\n",
    "from datetime import date\n",
    "import holidays"
   ]
  },
  {
   "cell_type": "markdown",
   "metadata": {},
   "source": [
    "### Import Dataset"
   ]
  },
  {
   "cell_type": "code",
   "execution_count": 15,
   "metadata": {},
   "outputs": [],
   "source": [
    "cliente    = '09517617000153_3.csv'\n",
    "path_miner = '../../../data/miner/'\n",
    "path_res   = '../../../data/res/'\n",
    "\n",
    "id_produto = '80354'\n",
    "name_end = 'df_qtd_rf_' + id_produto\n",
    "\n",
    "data = cliente"
   ]
  },
  {
   "cell_type": "code",
   "execution_count": 16,
   "metadata": {},
   "outputs": [],
   "source": [
    "df   = pd.read_csv(path_miner + data, encoding=\"utf-8\", dtype=str)"
   ]
  },
  {
   "cell_type": "markdown",
   "metadata": {},
   "source": [
    "### Functions"
   ]
  },
  {
   "cell_type": "code",
   "execution_count": 17,
   "metadata": {},
   "outputs": [],
   "source": [
    "def isWeekend(n):\n",
    "    if n <5:\n",
    "        return 0\n",
    "    else:\n",
    "        return 1"
   ]
  },
  {
   "cell_type": "code",
   "execution_count": 18,
   "metadata": {},
   "outputs": [],
   "source": [
    "def isStartMes(n):\n",
    "    if ( n > 30):\n",
    "        return 1\n",
    "    elif (n < 10):\n",
    "        return 1\n",
    "    else:\n",
    "        return 0"
   ]
  },
  {
   "cell_type": "code",
   "execution_count": 19,
   "metadata": {},
   "outputs": [],
   "source": [
    "def isHoliday(date):\n",
    "    br_holidays = holidays.BR()\n",
    "    if ((date in br_holidays)):\n",
    "        return 1\n",
    "    else:\n",
    "        return 0"
   ]
  },
  {
   "cell_type": "code",
   "execution_count": 20,
   "metadata": {},
   "outputs": [],
   "source": [
    "def ref(v1,v2, c):\n",
    "    if (v1 > v2):\n",
    "        div = (v1 - v2)/v1\n",
    "        if (div > c):\n",
    "            return v1\n",
    "        else:\n",
    "            return v2\n",
    "    else:\n",
    "        div = (v2 - v1)/v2\n",
    "        if (div>c):\n",
    "            return v1\n",
    "        else:\n",
    "            return v2"
   ]
  },
  {
   "cell_type": "markdown",
   "metadata": {},
   "source": [
    "### Processing"
   ]
  },
  {
   "cell_type": "code",
   "execution_count": 21,
   "metadata": {},
   "outputs": [],
   "source": [
    "df[[\"data\"]]                 = df[[\"data\"]].apply(pd.to_datetime)\n",
    "df[[\"valor\"]]                = df[[\"valor\"]].apply(pd.to_numeric)\n",
    "df[[\"quantidade\"]]           = df[[\"quantidade\"]].apply(pd.to_numeric)\n",
    "df[[\"valorCancelado\"]]       = df[[\"valorCancelado\"]].apply(pd.to_numeric)\n",
    "df[[\"quantidadeCancelada\"]]  = df[[\"quantidadeCancelada\"]].apply(pd.to_numeric)"
   ]
  },
  {
   "cell_type": "code",
   "execution_count": 22,
   "metadata": {},
   "outputs": [],
   "source": [
    "df_prod    = df[df['produtoId'] == id_produto]"
   ]
  },
  {
   "cell_type": "code",
   "execution_count": 23,
   "metadata": {},
   "outputs": [],
   "source": [
    "df_prod = df_prod.sort_values(by=['data'],ascending=True)"
   ]
  },
  {
   "cell_type": "code",
   "execution_count": 24,
   "metadata": {},
   "outputs": [],
   "source": [
    "df_prod[\"valor_unit\"]  =  round(df_prod[\"valor\"]/df[\"quantidade\"],2)\n",
    "df_prod['ano']         =  pd.DatetimeIndex(df_prod['data']).year\n",
    "df_prod['mes']         =  pd.DatetimeIndex(df_prod['data']).month\n",
    "df_prod['dia_semana']  =  pd.DatetimeIndex(df_prod['data']).dayofweek\n",
    "df_prod['dia']         =  pd.DatetimeIndex(df_prod['data']).day\n",
    "df_prod['fim_semana']  =  df_prod['dia_semana'].apply(lambda x: isWeekend((x)))\n",
    "df_prod['inicio_mes']  =  df_prod['dia'].apply(lambda x: isStartMes((x)))\n",
    "df_prod['feriado']     =  df_prod['data'].apply(lambda x: isHoliday((x)))"
   ]
  },
  {
   "cell_type": "code",
   "execution_count": 25,
   "metadata": {},
   "outputs": [],
   "source": [
    "columns = ['data', 'produtoId', 'descr', 'valor', 'valorCancelado', 'quantidadeCancelada', 'quantidadeDocumentos', 'quantidadeValorZero']\n",
    "df_prod.drop(columns, inplace=True, axis=1)"
   ]
  },
  {
   "cell_type": "code",
   "execution_count": 26,
   "metadata": {},
   "outputs": [],
   "source": [
    "preco_ref = df_prod.mode(axis=0)['valor_unit'][0]\n",
    "var_preco = 0.05\n",
    "\n",
    "df_prod[\"valor_unit\"]  = df_prod['valor_unit'].apply(lambda x: ref(x, preco_ref, var_preco) )"
   ]
  },
  {
   "cell_type": "code",
   "execution_count": 27,
   "metadata": {},
   "outputs": [],
   "source": [
    "df_prod.index = range(0,len(df_prod))\n",
    "df_prod = df_prod[['valor_unit', 'mes', 'dia_semana', 'dia', 'inicio_mes', 'fim_semana', 'feriado', 'quantidade']]"
   ]
  },
  {
   "cell_type": "code",
   "execution_count": 28,
   "metadata": {},
   "outputs": [],
   "source": [
    "df_prod_res = df_prod"
   ]
  },
  {
   "cell_type": "code",
   "execution_count": 29,
   "metadata": {},
   "outputs": [],
   "source": [
    "df_prod_res.to_csv(path_res +  name_end + '.csv')"
   ]
  }
 ],
 "metadata": {
  "kernelspec": {
   "display_name": "Python 3",
   "language": "python",
   "name": "python3"
  },
  "language_info": {
   "codemirror_mode": {
    "name": "ipython",
    "version": 3
   },
   "file_extension": ".py",
   "mimetype": "text/x-python",
   "name": "python",
   "nbconvert_exporter": "python",
   "pygments_lexer": "ipython3",
   "version": "3.7.4"
  }
 },
 "nbformat": 4,
 "nbformat_minor": 4
}
