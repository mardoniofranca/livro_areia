{
 "cells": [
  {
   "cell_type": "code",
   "execution_count": 1,
   "metadata": {},
   "outputs": [],
   "source": [
    "import pandas as pd\n",
    "import numpy as np\n",
    "import matplotlib.pyplot as plt\n",
    "from datetime import datetime as dt"
   ]
  },
  {
   "cell_type": "code",
   "execution_count": 2,
   "metadata": {},
   "outputs": [
    {
     "data": {
      "text/html": [
       "<div>\n",
       "<style scoped>\n",
       "    .dataframe tbody tr th:only-of-type {\n",
       "        vertical-align: middle;\n",
       "    }\n",
       "\n",
       "    .dataframe tbody tr th {\n",
       "        vertical-align: top;\n",
       "    }\n",
       "\n",
       "    .dataframe thead th {\n",
       "        text-align: right;\n",
       "    }\n",
       "</style>\n",
       "<table border=\"1\" class=\"dataframe\">\n",
       "  <thead>\n",
       "    <tr style=\"text-align: right;\">\n",
       "      <th></th>\n",
       "      <th>Data</th>\n",
       "      <th>Último</th>\n",
       "      <th>Abertura</th>\n",
       "      <th>Máxima</th>\n",
       "      <th>Mínima</th>\n",
       "      <th>Var%</th>\n",
       "    </tr>\n",
       "  </thead>\n",
       "  <tbody>\n",
       "    <tr>\n",
       "      <th>0</th>\n",
       "      <td>26.03.2020</td>\n",
       "      <td>5.0227</td>\n",
       "      <td>5.0364</td>\n",
       "      <td>5.0660</td>\n",
       "      <td>4.9739</td>\n",
       "      <td>-0,27%</td>\n",
       "    </tr>\n",
       "    <tr>\n",
       "      <th>1</th>\n",
       "      <td>25.03.2020</td>\n",
       "      <td>5.0366</td>\n",
       "      <td>5.0995</td>\n",
       "      <td>5.1109</td>\n",
       "      <td>4.9722</td>\n",
       "      <td>-1,23%</td>\n",
       "    </tr>\n",
       "    <tr>\n",
       "      <th>2</th>\n",
       "      <td>24.03.2020</td>\n",
       "      <td>5.0995</td>\n",
       "      <td>5.1431</td>\n",
       "      <td>5.1431</td>\n",
       "      <td>5.0412</td>\n",
       "      <td>-0,88%</td>\n",
       "    </tr>\n",
       "    <tr>\n",
       "      <th>3</th>\n",
       "      <td>23.03.2020</td>\n",
       "      <td>5.1446</td>\n",
       "      <td>5.0628</td>\n",
       "      <td>5.1479</td>\n",
       "      <td>5.0050</td>\n",
       "      <td>1,59%</td>\n",
       "    </tr>\n",
       "    <tr>\n",
       "      <th>4</th>\n",
       "      <td>20.03.2020</td>\n",
       "      <td>5.0640</td>\n",
       "      <td>5.0010</td>\n",
       "      <td>5.0662</td>\n",
       "      <td>4.9820</td>\n",
       "      <td>-0,63%</td>\n",
       "    </tr>\n",
       "  </tbody>\n",
       "</table>\n",
       "</div>"
      ],
      "text/plain": [
       "         Data  Último  Abertura  Máxima  Mínima    Var%\n",
       "0  26.03.2020  5.0227    5.0364  5.0660  4.9739  -0,27%\n",
       "1  25.03.2020  5.0366    5.0995  5.1109  4.9722  -1,23%\n",
       "2  24.03.2020  5.0995    5.1431  5.1431  5.0412  -0,88%\n",
       "3  23.03.2020  5.1446    5.0628  5.1479  5.0050   1,59%\n",
       "4  20.03.2020  5.0640    5.0010  5.0662  4.9820  -0,63%"
      ]
     },
     "execution_count": 2,
     "metadata": {},
     "output_type": "execute_result"
    }
   ],
   "source": [
    "df = pd.read_csv('../../../data/lab/USD_BRLDadosHistoricos2017-2020.csv', decimal=\",\")\n",
    "df.head()"
   ]
  },
  {
   "cell_type": "code",
   "execution_count": 3,
   "metadata": {},
   "outputs": [
    {
     "data": {
      "text/html": [
       "<div>\n",
       "<style scoped>\n",
       "    .dataframe tbody tr th:only-of-type {\n",
       "        vertical-align: middle;\n",
       "    }\n",
       "\n",
       "    .dataframe tbody tr th {\n",
       "        vertical-align: top;\n",
       "    }\n",
       "\n",
       "    .dataframe thead th {\n",
       "        text-align: right;\n",
       "    }\n",
       "</style>\n",
       "<table border=\"1\" class=\"dataframe\">\n",
       "  <thead>\n",
       "    <tr style=\"text-align: right;\">\n",
       "      <th></th>\n",
       "      <th>Data</th>\n",
       "      <th>Último</th>\n",
       "      <th>Abertura</th>\n",
       "      <th>Máxima</th>\n",
       "      <th>Mínima</th>\n",
       "      <th>Var%</th>\n",
       "    </tr>\n",
       "  </thead>\n",
       "  <tbody>\n",
       "    <tr>\n",
       "      <th>817</th>\n",
       "      <td>07.02.2017</td>\n",
       "      <td>3.1205</td>\n",
       "      <td>3.1155</td>\n",
       "      <td>3.1369</td>\n",
       "      <td>3.1155</td>\n",
       "      <td>0,14%</td>\n",
       "    </tr>\n",
       "    <tr>\n",
       "      <th>818</th>\n",
       "      <td>06.02.2017</td>\n",
       "      <td>3.1160</td>\n",
       "      <td>3.1185</td>\n",
       "      <td>3.1276</td>\n",
       "      <td>3.1050</td>\n",
       "      <td>-0,05%</td>\n",
       "    </tr>\n",
       "    <tr>\n",
       "      <th>819</th>\n",
       "      <td>03.02.2017</td>\n",
       "      <td>3.1176</td>\n",
       "      <td>3.1237</td>\n",
       "      <td>3.1389</td>\n",
       "      <td>3.1042</td>\n",
       "      <td>-0,20%</td>\n",
       "    </tr>\n",
       "    <tr>\n",
       "      <th>820</th>\n",
       "      <td>02.02.2017</td>\n",
       "      <td>3.1240</td>\n",
       "      <td>3.1290</td>\n",
       "      <td>3.1304</td>\n",
       "      <td>3.1075</td>\n",
       "      <td>-0,18%</td>\n",
       "    </tr>\n",
       "    <tr>\n",
       "      <th>821</th>\n",
       "      <td>01.02.2017</td>\n",
       "      <td>3.1295</td>\n",
       "      <td>3.1520</td>\n",
       "      <td>3.1638</td>\n",
       "      <td>3.1275</td>\n",
       "      <td>-0,68%</td>\n",
       "    </tr>\n",
       "  </tbody>\n",
       "</table>\n",
       "</div>"
      ],
      "text/plain": [
       "           Data  Último  Abertura  Máxima  Mínima    Var%\n",
       "817  07.02.2017  3.1205    3.1155  3.1369  3.1155   0,14%\n",
       "818  06.02.2017  3.1160    3.1185  3.1276  3.1050  -0,05%\n",
       "819  03.02.2017  3.1176    3.1237  3.1389  3.1042  -0,20%\n",
       "820  02.02.2017  3.1240    3.1290  3.1304  3.1075  -0,18%\n",
       "821  01.02.2017  3.1295    3.1520  3.1638  3.1275  -0,68%"
      ]
     },
     "execution_count": 3,
     "metadata": {},
     "output_type": "execute_result"
    }
   ],
   "source": [
    "df.tail()"
   ]
  },
  {
   "cell_type": "code",
   "execution_count": 4,
   "metadata": {},
   "outputs": [
    {
     "name": "stdout",
     "output_type": "stream",
     "text": [
      "<class 'pandas.core.frame.DataFrame'>\n",
      "RangeIndex: 822 entries, 0 to 821\n",
      "Data columns (total 6 columns):\n",
      " #   Column    Non-Null Count  Dtype  \n",
      "---  ------    --------------  -----  \n",
      " 0   Data      822 non-null    object \n",
      " 1   Último    822 non-null    float64\n",
      " 2   Abertura  822 non-null    float64\n",
      " 3   Máxima    822 non-null    float64\n",
      " 4   Mínima    822 non-null    float64\n",
      " 5   Var%      822 non-null    object \n",
      "dtypes: float64(4), object(2)\n",
      "memory usage: 38.7+ KB\n"
     ]
    }
   ],
   "source": [
    "df.info()"
   ]
  },
  {
   "cell_type": "code",
   "execution_count": 5,
   "metadata": {},
   "outputs": [
    {
     "data": {
      "text/html": [
       "<div>\n",
       "<style scoped>\n",
       "    .dataframe tbody tr th:only-of-type {\n",
       "        vertical-align: middle;\n",
       "    }\n",
       "\n",
       "    .dataframe tbody tr th {\n",
       "        vertical-align: top;\n",
       "    }\n",
       "\n",
       "    .dataframe thead th {\n",
       "        text-align: right;\n",
       "    }\n",
       "</style>\n",
       "<table border=\"1\" class=\"dataframe\">\n",
       "  <thead>\n",
       "    <tr style=\"text-align: right;\">\n",
       "      <th></th>\n",
       "      <th>Data</th>\n",
       "      <th>Último</th>\n",
       "      <th>Abertura</th>\n",
       "      <th>Máxima</th>\n",
       "      <th>Mínima</th>\n",
       "      <th>Var%</th>\n",
       "      <th>Date</th>\n",
       "    </tr>\n",
       "  </thead>\n",
       "  <tbody>\n",
       "    <tr>\n",
       "      <th>0</th>\n",
       "      <td>26.03.2020</td>\n",
       "      <td>5.0227</td>\n",
       "      <td>5.0364</td>\n",
       "      <td>5.0660</td>\n",
       "      <td>4.9739</td>\n",
       "      <td>-0,27%</td>\n",
       "      <td>2020-03-26</td>\n",
       "    </tr>\n",
       "    <tr>\n",
       "      <th>1</th>\n",
       "      <td>25.03.2020</td>\n",
       "      <td>5.0366</td>\n",
       "      <td>5.0995</td>\n",
       "      <td>5.1109</td>\n",
       "      <td>4.9722</td>\n",
       "      <td>-1,23%</td>\n",
       "      <td>2020-03-25</td>\n",
       "    </tr>\n",
       "    <tr>\n",
       "      <th>2</th>\n",
       "      <td>24.03.2020</td>\n",
       "      <td>5.0995</td>\n",
       "      <td>5.1431</td>\n",
       "      <td>5.1431</td>\n",
       "      <td>5.0412</td>\n",
       "      <td>-0,88%</td>\n",
       "      <td>2020-03-24</td>\n",
       "    </tr>\n",
       "    <tr>\n",
       "      <th>3</th>\n",
       "      <td>23.03.2020</td>\n",
       "      <td>5.1446</td>\n",
       "      <td>5.0628</td>\n",
       "      <td>5.1479</td>\n",
       "      <td>5.0050</td>\n",
       "      <td>1,59%</td>\n",
       "      <td>2020-03-23</td>\n",
       "    </tr>\n",
       "    <tr>\n",
       "      <th>4</th>\n",
       "      <td>20.03.2020</td>\n",
       "      <td>5.0640</td>\n",
       "      <td>5.0010</td>\n",
       "      <td>5.0662</td>\n",
       "      <td>4.9820</td>\n",
       "      <td>-0,63%</td>\n",
       "      <td>2020-03-20</td>\n",
       "    </tr>\n",
       "  </tbody>\n",
       "</table>\n",
       "</div>"
      ],
      "text/plain": [
       "         Data  Último  Abertura  Máxima  Mínima    Var%       Date\n",
       "0  26.03.2020  5.0227    5.0364  5.0660  4.9739  -0,27% 2020-03-26\n",
       "1  25.03.2020  5.0366    5.0995  5.1109  4.9722  -1,23% 2020-03-25\n",
       "2  24.03.2020  5.0995    5.1431  5.1431  5.0412  -0,88% 2020-03-24\n",
       "3  23.03.2020  5.1446    5.0628  5.1479  5.0050   1,59% 2020-03-23\n",
       "4  20.03.2020  5.0640    5.0010  5.0662  4.9820  -0,63% 2020-03-20"
      ]
     },
     "execution_count": 5,
     "metadata": {},
     "output_type": "execute_result"
    }
   ],
   "source": [
    "df['Date'] = pd.to_datetime(df['Data'], format='%d.%m.%Y') \n",
    "df.head()"
   ]
  },
  {
   "cell_type": "code",
   "execution_count": 6,
   "metadata": {},
   "outputs": [
    {
     "data": {
      "text/html": [
       "<div>\n",
       "<style scoped>\n",
       "    .dataframe tbody tr th:only-of-type {\n",
       "        vertical-align: middle;\n",
       "    }\n",
       "\n",
       "    .dataframe tbody tr th {\n",
       "        vertical-align: top;\n",
       "    }\n",
       "\n",
       "    .dataframe thead th {\n",
       "        text-align: right;\n",
       "    }\n",
       "</style>\n",
       "<table border=\"1\" class=\"dataframe\">\n",
       "  <thead>\n",
       "    <tr style=\"text-align: right;\">\n",
       "      <th></th>\n",
       "      <th>Data</th>\n",
       "      <th>Último</th>\n",
       "      <th>Abertura</th>\n",
       "      <th>Máxima</th>\n",
       "      <th>Mínima</th>\n",
       "      <th>Var%</th>\n",
       "      <th>Date</th>\n",
       "    </tr>\n",
       "  </thead>\n",
       "  <tbody>\n",
       "    <tr>\n",
       "      <th>817</th>\n",
       "      <td>07.02.2017</td>\n",
       "      <td>3.1205</td>\n",
       "      <td>3.1155</td>\n",
       "      <td>3.1369</td>\n",
       "      <td>3.1155</td>\n",
       "      <td>0,14%</td>\n",
       "      <td>2017-02-07</td>\n",
       "    </tr>\n",
       "    <tr>\n",
       "      <th>818</th>\n",
       "      <td>06.02.2017</td>\n",
       "      <td>3.1160</td>\n",
       "      <td>3.1185</td>\n",
       "      <td>3.1276</td>\n",
       "      <td>3.1050</td>\n",
       "      <td>-0,05%</td>\n",
       "      <td>2017-02-06</td>\n",
       "    </tr>\n",
       "    <tr>\n",
       "      <th>819</th>\n",
       "      <td>03.02.2017</td>\n",
       "      <td>3.1176</td>\n",
       "      <td>3.1237</td>\n",
       "      <td>3.1389</td>\n",
       "      <td>3.1042</td>\n",
       "      <td>-0,20%</td>\n",
       "      <td>2017-02-03</td>\n",
       "    </tr>\n",
       "    <tr>\n",
       "      <th>820</th>\n",
       "      <td>02.02.2017</td>\n",
       "      <td>3.1240</td>\n",
       "      <td>3.1290</td>\n",
       "      <td>3.1304</td>\n",
       "      <td>3.1075</td>\n",
       "      <td>-0,18%</td>\n",
       "      <td>2017-02-02</td>\n",
       "    </tr>\n",
       "    <tr>\n",
       "      <th>821</th>\n",
       "      <td>01.02.2017</td>\n",
       "      <td>3.1295</td>\n",
       "      <td>3.1520</td>\n",
       "      <td>3.1638</td>\n",
       "      <td>3.1275</td>\n",
       "      <td>-0,68%</td>\n",
       "      <td>2017-02-01</td>\n",
       "    </tr>\n",
       "  </tbody>\n",
       "</table>\n",
       "</div>"
      ],
      "text/plain": [
       "           Data  Último  Abertura  Máxima  Mínima    Var%       Date\n",
       "817  07.02.2017  3.1205    3.1155  3.1369  3.1155   0,14% 2017-02-07\n",
       "818  06.02.2017  3.1160    3.1185  3.1276  3.1050  -0,05% 2017-02-06\n",
       "819  03.02.2017  3.1176    3.1237  3.1389  3.1042  -0,20% 2017-02-03\n",
       "820  02.02.2017  3.1240    3.1290  3.1304  3.1075  -0,18% 2017-02-02\n",
       "821  01.02.2017  3.1295    3.1520  3.1638  3.1275  -0,68% 2017-02-01"
      ]
     },
     "execution_count": 6,
     "metadata": {},
     "output_type": "execute_result"
    }
   ],
   "source": [
    "df.tail()"
   ]
  },
  {
   "cell_type": "code",
   "execution_count": 7,
   "metadata": {},
   "outputs": [
    {
     "name": "stdout",
     "output_type": "stream",
     "text": [
      "<class 'pandas.core.frame.DataFrame'>\n",
      "RangeIndex: 822 entries, 0 to 821\n",
      "Data columns (total 7 columns):\n",
      " #   Column    Non-Null Count  Dtype         \n",
      "---  ------    --------------  -----         \n",
      " 0   Data      822 non-null    object        \n",
      " 1   Último    822 non-null    float64       \n",
      " 2   Abertura  822 non-null    float64       \n",
      " 3   Máxima    822 non-null    float64       \n",
      " 4   Mínima    822 non-null    float64       \n",
      " 5   Var%      822 non-null    object        \n",
      " 6   Date      822 non-null    datetime64[ns]\n",
      "dtypes: datetime64[ns](1), float64(4), object(2)\n",
      "memory usage: 45.1+ KB\n"
     ]
    }
   ],
   "source": [
    "df.info()"
   ]
  },
  {
   "cell_type": "code",
   "execution_count": 8,
   "metadata": {},
   "outputs": [],
   "source": [
    "df_by_month = df['Último'].groupby(df['Date'].dt.to_period('M')).mean()"
   ]
  },
  {
   "cell_type": "code",
   "execution_count": 9,
   "metadata": {},
   "outputs": [],
   "source": [
    "df_by_month = df_by_month.to_frame()"
   ]
  },
  {
   "cell_type": "code",
   "execution_count": 10,
   "metadata": {},
   "outputs": [
    {
     "data": {
      "text/html": [
       "<div>\n",
       "<style scoped>\n",
       "    .dataframe tbody tr th:only-of-type {\n",
       "        vertical-align: middle;\n",
       "    }\n",
       "\n",
       "    .dataframe tbody tr th {\n",
       "        vertical-align: top;\n",
       "    }\n",
       "\n",
       "    .dataframe thead th {\n",
       "        text-align: right;\n",
       "    }\n",
       "</style>\n",
       "<table border=\"1\" class=\"dataframe\">\n",
       "  <thead>\n",
       "    <tr style=\"text-align: right;\">\n",
       "      <th></th>\n",
       "      <th>Último</th>\n",
       "    </tr>\n",
       "    <tr>\n",
       "      <th>Date</th>\n",
       "      <th></th>\n",
       "    </tr>\n",
       "  </thead>\n",
       "  <tbody>\n",
       "    <tr>\n",
       "      <th>2017-02</th>\n",
       "      <td>3.102680</td>\n",
       "    </tr>\n",
       "    <tr>\n",
       "      <th>2017-03</th>\n",
       "      <td>3.126491</td>\n",
       "    </tr>\n",
       "    <tr>\n",
       "      <th>2017-04</th>\n",
       "      <td>3.138250</td>\n",
       "    </tr>\n",
       "    <tr>\n",
       "      <th>2017-05</th>\n",
       "      <td>3.205922</td>\n",
       "    </tr>\n",
       "    <tr>\n",
       "      <th>2017-06</th>\n",
       "      <td>3.295968</td>\n",
       "    </tr>\n",
       "  </tbody>\n",
       "</table>\n",
       "</div>"
      ],
      "text/plain": [
       "           Último\n",
       "Date             \n",
       "2017-02  3.102680\n",
       "2017-03  3.126491\n",
       "2017-04  3.138250\n",
       "2017-05  3.205922\n",
       "2017-06  3.295968"
      ]
     },
     "execution_count": 10,
     "metadata": {},
     "output_type": "execute_result"
    }
   ],
   "source": [
    "df_by_month.head()"
   ]
  },
  {
   "cell_type": "code",
   "execution_count": 11,
   "metadata": {},
   "outputs": [
    {
     "data": {
      "text/html": [
       "<div>\n",
       "<style scoped>\n",
       "    .dataframe tbody tr th:only-of-type {\n",
       "        vertical-align: middle;\n",
       "    }\n",
       "\n",
       "    .dataframe tbody tr th {\n",
       "        vertical-align: top;\n",
       "    }\n",
       "\n",
       "    .dataframe thead th {\n",
       "        text-align: right;\n",
       "    }\n",
       "</style>\n",
       "<table border=\"1\" class=\"dataframe\">\n",
       "  <thead>\n",
       "    <tr style=\"text-align: right;\">\n",
       "      <th></th>\n",
       "      <th>Último</th>\n",
       "    </tr>\n",
       "    <tr>\n",
       "      <th>Date</th>\n",
       "      <th></th>\n",
       "    </tr>\n",
       "  </thead>\n",
       "  <tbody>\n",
       "    <tr>\n",
       "      <th>2019-11</th>\n",
       "      <td>4.160862</td>\n",
       "    </tr>\n",
       "    <tr>\n",
       "      <th>2019-12</th>\n",
       "      <td>4.106405</td>\n",
       "    </tr>\n",
       "    <tr>\n",
       "      <th>2020-01</th>\n",
       "      <td>4.147635</td>\n",
       "    </tr>\n",
       "    <tr>\n",
       "      <th>2020-02</th>\n",
       "      <td>4.351015</td>\n",
       "    </tr>\n",
       "    <tr>\n",
       "      <th>2020-03</th>\n",
       "      <td>4.853958</td>\n",
       "    </tr>\n",
       "  </tbody>\n",
       "</table>\n",
       "</div>"
      ],
      "text/plain": [
       "           Último\n",
       "Date             \n",
       "2019-11  4.160862\n",
       "2019-12  4.106405\n",
       "2020-01  4.147635\n",
       "2020-02  4.351015\n",
       "2020-03  4.853958"
      ]
     },
     "execution_count": 11,
     "metadata": {},
     "output_type": "execute_result"
    }
   ],
   "source": [
    "df_by_month.tail()"
   ]
  },
  {
   "cell_type": "code",
   "execution_count": 12,
   "metadata": {},
   "outputs": [
    {
     "data": {
      "text/plain": [
       "38"
      ]
     },
     "execution_count": 12,
     "metadata": {},
     "output_type": "execute_result"
    }
   ],
   "source": [
    "len(df_by_month)"
   ]
  },
  {
   "cell_type": "code",
   "execution_count": 13,
   "metadata": {},
   "outputs": [],
   "source": [
    "df_by_month.to_csv('../../../data/miner/media_mensal_dolar_01-17a03-20.csv')"
   ]
  }
 ],
 "metadata": {
  "kernelspec": {
   "display_name": "Python 3",
   "language": "python",
   "name": "python3"
  },
  "language_info": {
   "codemirror_mode": {
    "name": "ipython",
    "version": 3
   },
   "file_extension": ".py",
   "mimetype": "text/x-python",
   "name": "python",
   "nbconvert_exporter": "python",
   "pygments_lexer": "ipython3",
   "version": "3.6.9"
  }
 },
 "nbformat": 4,
 "nbformat_minor": 4
}
