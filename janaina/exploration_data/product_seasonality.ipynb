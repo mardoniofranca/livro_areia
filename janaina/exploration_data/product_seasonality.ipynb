{
 "cells": [
  {
   "cell_type": "code",
   "execution_count": 1,
   "metadata": {},
   "outputs": [],
   "source": [
    "import pandas as pd\n",
    "import numpy as np\n",
    "import matplotlib.pyplot as plt\n",
    "\n",
    "import warnings\n",
    "warnings.filterwarnings('ignore')"
   ]
  },
  {
   "cell_type": "code",
   "execution_count": 2,
   "metadata": {},
   "outputs": [],
   "source": [
    "data = pd.read_csv('../../../data/miner/09517617000153_3.csv', date_parser = 'data')"
   ]
  },
  {
   "cell_type": "code",
   "execution_count": 3,
   "metadata": {},
   "outputs": [
    {
     "data": {
      "text/html": [
       "<div>\n",
       "<style scoped>\n",
       "    .dataframe tbody tr th:only-of-type {\n",
       "        vertical-align: middle;\n",
       "    }\n",
       "\n",
       "    .dataframe tbody tr th {\n",
       "        vertical-align: top;\n",
       "    }\n",
       "\n",
       "    .dataframe thead th {\n",
       "        text-align: right;\n",
       "    }\n",
       "</style>\n",
       "<table border=\"1\" class=\"dataframe\">\n",
       "  <thead>\n",
       "    <tr style=\"text-align: right;\">\n",
       "      <th></th>\n",
       "      <th>data</th>\n",
       "      <th>produtoId</th>\n",
       "      <th>descr</th>\n",
       "      <th>valor</th>\n",
       "      <th>quantidade</th>\n",
       "      <th>valorCancelado</th>\n",
       "      <th>quantidadeCancelada</th>\n",
       "      <th>quantidadeDocumentos</th>\n",
       "      <th>quantidadeValorZero</th>\n",
       "    </tr>\n",
       "  </thead>\n",
       "  <tbody>\n",
       "    <tr>\n",
       "      <th>0</th>\n",
       "      <td>2019-01-02</td>\n",
       "      <td>1001</td>\n",
       "      <td>CREME DENTAL CLOSEUP TRIPLE 70G MENTA</td>\n",
       "      <td>2.79</td>\n",
       "      <td>1.0</td>\n",
       "      <td>0.00</td>\n",
       "      <td>0.0</td>\n",
       "      <td>1</td>\n",
       "      <td>0.0</td>\n",
       "    </tr>\n",
       "    <tr>\n",
       "      <th>1</th>\n",
       "      <td>2019-01-02</td>\n",
       "      <td>10012802</td>\n",
       "      <td>MASTRUZ HORTA VERDE UN</td>\n",
       "      <td>19.90</td>\n",
       "      <td>10.0</td>\n",
       "      <td>3.98</td>\n",
       "      <td>2.0</td>\n",
       "      <td>9</td>\n",
       "      <td>0.0</td>\n",
       "    </tr>\n",
       "    <tr>\n",
       "      <th>2</th>\n",
       "      <td>2019-01-02</td>\n",
       "      <td>10022</td>\n",
       "      <td>LIXA UNHA M BONI 6 UND</td>\n",
       "      <td>2.59</td>\n",
       "      <td>1.0</td>\n",
       "      <td>0.00</td>\n",
       "      <td>0.0</td>\n",
       "      <td>1</td>\n",
       "      <td>0.0</td>\n",
       "    </tr>\n",
       "    <tr>\n",
       "      <th>3</th>\n",
       "      <td>2019-01-02</td>\n",
       "      <td>100328</td>\n",
       "      <td>POLVILHO YOKI 500G AZEDO</td>\n",
       "      <td>9.49</td>\n",
       "      <td>1.0</td>\n",
       "      <td>0.00</td>\n",
       "      <td>0.0</td>\n",
       "      <td>1</td>\n",
       "      <td>0.0</td>\n",
       "    </tr>\n",
       "    <tr>\n",
       "      <th>4</th>\n",
       "      <td>2019-01-02</td>\n",
       "      <td>100335</td>\n",
       "      <td>SHAMPOO PROCAO 500ML PELOS CLAROS</td>\n",
       "      <td>7.99</td>\n",
       "      <td>1.0</td>\n",
       "      <td>0.00</td>\n",
       "      <td>0.0</td>\n",
       "      <td>1</td>\n",
       "      <td>0.0</td>\n",
       "    </tr>\n",
       "  </tbody>\n",
       "</table>\n",
       "</div>"
      ],
      "text/plain": [
       "         data  produtoId                                  descr  valor  \\\n",
       "0  2019-01-02       1001  CREME DENTAL CLOSEUP TRIPLE 70G MENTA   2.79   \n",
       "1  2019-01-02   10012802                 MASTRUZ HORTA VERDE UN  19.90   \n",
       "2  2019-01-02      10022                 LIXA UNHA M BONI 6 UND   2.59   \n",
       "3  2019-01-02     100328               POLVILHO YOKI 500G AZEDO   9.49   \n",
       "4  2019-01-02     100335      SHAMPOO PROCAO 500ML PELOS CLAROS   7.99   \n",
       "\n",
       "   quantidade  valorCancelado  quantidadeCancelada  quantidadeDocumentos  \\\n",
       "0         1.0            0.00                  0.0                     1   \n",
       "1        10.0            3.98                  2.0                     9   \n",
       "2         1.0            0.00                  0.0                     1   \n",
       "3         1.0            0.00                  0.0                     1   \n",
       "4         1.0            0.00                  0.0                     1   \n",
       "\n",
       "   quantidadeValorZero  \n",
       "0                  0.0  \n",
       "1                  0.0  \n",
       "2                  0.0  \n",
       "3                  0.0  \n",
       "4                  0.0  "
      ]
     },
     "execution_count": 3,
     "metadata": {},
     "output_type": "execute_result"
    }
   ],
   "source": [
    "data.head()"
   ]
  },
  {
   "cell_type": "code",
   "execution_count": 4,
   "metadata": {},
   "outputs": [
    {
     "data": {
      "text/plain": [
       "0             CREME DENTAL CLOSEUP TRIPLE 70G MENTA\n",
       "1                            MASTRUZ HORTA VERDE UN\n",
       "2                            LIXA UNHA M BONI 6 UND\n",
       "3                          POLVILHO YOKI 500G AZEDO\n",
       "4                 SHAMPOO PROCAO 500ML PELOS CLAROS\n",
       "                             ...                   \n",
       "1029898                        REFRIGERANTE KUAT 1L\n",
       "1029899           REFRIGERANTE SUKITA 350ML LARANJA\n",
       "1029900    ESCOVA DENTAL ORAL-B PRO.S 7B 40 MC L2P1\n",
       "1029901         REFRI GUARANA ANTARCTICA 350ML LATA\n",
       "1029902                          CERVEJA SKOL 350ML\n",
       "Name: descr, Length: 1029903, dtype: object"
      ]
     },
     "execution_count": 4,
     "metadata": {},
     "output_type": "execute_result"
    }
   ],
   "source": [
    "data['descr'] "
   ]
  },
  {
   "cell_type": "code",
   "execution_count": 5,
   "metadata": {},
   "outputs": [
    {
     "name": "stdout",
     "output_type": "stream",
     "text": [
      "<class 'pandas.core.frame.DataFrame'>\n",
      "RangeIndex: 1029903 entries, 0 to 1029902\n",
      "Data columns (total 9 columns):\n",
      " #   Column                Non-Null Count    Dtype  \n",
      "---  ------                --------------    -----  \n",
      " 0   data                  1029903 non-null  object \n",
      " 1   produtoId             1029903 non-null  int64  \n",
      " 2   descr                 1029446 non-null  object \n",
      " 3   valor                 1029903 non-null  float64\n",
      " 4   quantidade            1029903 non-null  float64\n",
      " 5   valorCancelado        1029903 non-null  float64\n",
      " 6   quantidadeCancelada   1029903 non-null  float64\n",
      " 7   quantidadeDocumentos  1029903 non-null  int64  \n",
      " 8   quantidadeValorZero   1029903 non-null  float64\n",
      "dtypes: float64(5), int64(2), object(2)\n",
      "memory usage: 70.7+ MB\n"
     ]
    }
   ],
   "source": [
    "data.info()"
   ]
  },
  {
   "cell_type": "code",
   "execution_count": 6,
   "metadata": {},
   "outputs": [
    {
     "name": "stdout",
     "output_type": "stream",
     "text": [
      "<class 'pandas.core.frame.DataFrame'>\n",
      "RangeIndex: 1029903 entries, 0 to 1029902\n",
      "Data columns (total 9 columns):\n",
      " #   Column                Non-Null Count    Dtype         \n",
      "---  ------                --------------    -----         \n",
      " 0   data                  1029903 non-null  datetime64[ns]\n",
      " 1   produtoId             1029903 non-null  int64         \n",
      " 2   descr                 1029446 non-null  object        \n",
      " 3   valor                 1029903 non-null  float64       \n",
      " 4   quantidade            1029903 non-null  float64       \n",
      " 5   valorCancelado        1029903 non-null  float64       \n",
      " 6   quantidadeCancelada   1029903 non-null  float64       \n",
      " 7   quantidadeDocumentos  1029903 non-null  int64         \n",
      " 8   quantidadeValorZero   1029903 non-null  float64       \n",
      "dtypes: datetime64[ns](1), float64(5), int64(2), object(1)\n",
      "memory usage: 70.7+ MB\n"
     ]
    }
   ],
   "source": [
    "data['data'] = data['data'].astype('datetime64[ns]')\n",
    "data.info()"
   ]
  },
  {
   "cell_type": "code",
   "execution_count": 7,
   "metadata": {},
   "outputs": [],
   "source": [
    "data.index = data['data']"
   ]
  },
  {
   "cell_type": "code",
   "execution_count": 8,
   "metadata": {},
   "outputs": [],
   "source": [
    "CARNAVAL      = data.loc['2019-02-28':'2019-03-07']\n",
    "SEMANA_SANTA  = data.loc['2019-04-14':'2019-04-20']\n",
    "NATAL         = data.loc['2019-12-22':'2019-12-27']\n",
    "ANO_NOVO      = data.loc['2019-12-29':'2020-01-03']"
   ]
  },
  {
   "cell_type": "code",
   "execution_count": 9,
   "metadata": {},
   "outputs": [
    {
     "data": {
      "text/plain": [
       "quantidade  descr                                          \n",
       "0.0         CEREAL BARRA SUPINO ZERO CHOCOLATE AO LEITE 24G    199\n",
       "            NECTAR SUFRESH 200ML MACA                           87\n",
       "            KIT DESODORANTE AER REXONA MEN ACTIVE LV+PG-        77\n",
       "            MASCARA CAPILAR GOLD 430G MEGA BRIL                 61\n",
       "            PAO COCO MAX PAES 500G                              55\n",
       "                                                              ... \n",
       "3936.0      CERVEJA BUDWEISER 350ML LATA                         1\n",
       "4117.0      CERVEJA BOHEMIA 269ML LT                             1\n",
       "5085.0      CERVEJA BUDWEISER 350ML LATA                         1\n",
       "5360.0      CERVEJA BUDWEISER 350ML LATA                         1\n",
       "6844.0      CERVEJA SKOL 350ML PURO MALTE                        1\n",
       "Name: descr, Length: 156407, dtype: int64"
      ]
     },
     "execution_count": 9,
     "metadata": {},
     "output_type": "execute_result"
    }
   ],
   "source": [
    "data['descr'].groupby(data['quantidade']).value_counts()"
   ]
  },
  {
   "cell_type": "code",
   "execution_count": 10,
   "metadata": {},
   "outputs": [],
   "source": [
    "def is_var_holliday(id_prod):#id_ass, id_loja)\n",
    "    \n",
    "    data_prod         = data[data['produtoId'] == id_prod]\n",
    "    data_prod['data'] = data_prod['data'].astype('datetime64[ns]')\n",
    "    \n",
    "    \n",
    "    CARNAVAL      = data_prod.loc['2019-02-27':'2019-03-06']\n",
    "    SEMANA_SANTA  = data_prod.loc['2019-04-13':'2019-04-20']\n",
    "    NATAL         = data_prod.loc['2019-12-23':'2019-12-25']\n",
    "    ANO_NOVO      = data_prod.loc['2019-12-30':'2020-01-01']\n",
    "    \n",
    "    dict_hollidays = {'Carnaval'    : CARNAVAL,\n",
    "                      'Semana Santa': SEMANA_SANTA,\n",
    "                      'Natal'       : NATAL,\n",
    "                      'Ano Novo'    : ANO_NOVO}\n",
    "    \n",
    "    response = {}\n",
    "    \n",
    "    for key, value in dict_hollidays.items():\n",
    "        response[key] = sense_product(data_prod, value)\n",
    "    \n",
    "    return response"
   ]
  },
  {
   "cell_type": "code",
   "execution_count": 11,
   "metadata": {},
   "outputs": [],
   "source": [
    "def sense_product(data, data_holliday):\n",
    "    \n",
    "    data = pd.concat([data, data_holliday]).drop_duplicates(keep=False)\n",
    "    \n",
    "    baseline_data          = data['quantidade'].mean() + data['quantidade'].std()\n",
    "    baseline_data_holliday = data_holliday['quantidade'].mean() + data_holliday['quantidade'].std()\n",
    "    \n",
    "    if (baseline_data < baseline_data_holliday):\n",
    "        return True\n",
    "    \n",
    "    return False"
   ]
  },
  {
   "cell_type": "code",
   "execution_count": 12,
   "metadata": {},
   "outputs": [
    {
     "data": {
      "text/plain": [
       "{'Carnaval': False, 'Semana Santa': False, 'Natal': False, 'Ano Novo': True}"
      ]
     },
     "execution_count": 12,
     "metadata": {},
     "output_type": "execute_result"
    }
   ],
   "source": [
    "# POLPA ELEGE 540G MORANGO id = 127929\n",
    "is_var_holliday(127929)"
   ]
  },
  {
   "cell_type": "code",
   "execution_count": null,
   "metadata": {},
   "outputs": [],
   "source": []
  }
 ],
 "metadata": {
  "kernelspec": {
   "display_name": "Python 3",
   "language": "python",
   "name": "python3"
  },
  "language_info": {
   "codemirror_mode": {
    "name": "ipython",
    "version": 3
   },
   "file_extension": ".py",
   "mimetype": "text/x-python",
   "name": "python",
   "nbconvert_exporter": "python",
   "pygments_lexer": "ipython3",
   "version": "3.6.9"
  }
 },
 "nbformat": 4,
 "nbformat_minor": 4
}
