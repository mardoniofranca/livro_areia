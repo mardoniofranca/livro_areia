{
 "cells": [
  {
   "cell_type": "code",
   "execution_count": 1,
   "metadata": {},
   "outputs": [],
   "source": [
    "import pandas as pd\n",
    "import numpy as np\n",
    "import matplotlib.pyplot as plt\n",
    "\n",
    "import warnings\n",
    "warnings.filterwarnings('ignore')"
   ]
  },
  {
   "cell_type": "code",
   "execution_count": 2,
   "metadata": {},
   "outputs": [],
   "source": [
    "data = pd.read_csv('../../../data/miner/09517617000153_3.csv')"
   ]
  },
  {
   "cell_type": "code",
   "execution_count": 3,
   "metadata": {},
   "outputs": [
    {
     "data": {
      "text/html": [
       "<div>\n",
       "<style scoped>\n",
       "    .dataframe tbody tr th:only-of-type {\n",
       "        vertical-align: middle;\n",
       "    }\n",
       "\n",
       "    .dataframe tbody tr th {\n",
       "        vertical-align: top;\n",
       "    }\n",
       "\n",
       "    .dataframe thead th {\n",
       "        text-align: right;\n",
       "    }\n",
       "</style>\n",
       "<table border=\"1\" class=\"dataframe\">\n",
       "  <thead>\n",
       "    <tr style=\"text-align: right;\">\n",
       "      <th></th>\n",
       "      <th>data</th>\n",
       "      <th>produtoId</th>\n",
       "      <th>descr</th>\n",
       "      <th>valor</th>\n",
       "      <th>quantidade</th>\n",
       "      <th>valorCancelado</th>\n",
       "      <th>quantidadeCancelada</th>\n",
       "      <th>quantidadeDocumentos</th>\n",
       "      <th>quantidadeValorZero</th>\n",
       "    </tr>\n",
       "  </thead>\n",
       "  <tbody>\n",
       "    <tr>\n",
       "      <th>0</th>\n",
       "      <td>2019-01-02</td>\n",
       "      <td>1001</td>\n",
       "      <td>CREME DENTAL CLOSEUP TRIPLE 70G MENTA</td>\n",
       "      <td>2.79</td>\n",
       "      <td>1.0</td>\n",
       "      <td>0.00</td>\n",
       "      <td>0.0</td>\n",
       "      <td>1</td>\n",
       "      <td>0.0</td>\n",
       "    </tr>\n",
       "    <tr>\n",
       "      <th>1</th>\n",
       "      <td>2019-01-02</td>\n",
       "      <td>10012802</td>\n",
       "      <td>MASTRUZ HORTA VERDE UN</td>\n",
       "      <td>19.90</td>\n",
       "      <td>10.0</td>\n",
       "      <td>3.98</td>\n",
       "      <td>2.0</td>\n",
       "      <td>9</td>\n",
       "      <td>0.0</td>\n",
       "    </tr>\n",
       "    <tr>\n",
       "      <th>2</th>\n",
       "      <td>2019-01-02</td>\n",
       "      <td>10022</td>\n",
       "      <td>LIXA UNHA M BONI 6 UND</td>\n",
       "      <td>2.59</td>\n",
       "      <td>1.0</td>\n",
       "      <td>0.00</td>\n",
       "      <td>0.0</td>\n",
       "      <td>1</td>\n",
       "      <td>0.0</td>\n",
       "    </tr>\n",
       "    <tr>\n",
       "      <th>3</th>\n",
       "      <td>2019-01-02</td>\n",
       "      <td>100328</td>\n",
       "      <td>POLVILHO YOKI 500G AZEDO</td>\n",
       "      <td>9.49</td>\n",
       "      <td>1.0</td>\n",
       "      <td>0.00</td>\n",
       "      <td>0.0</td>\n",
       "      <td>1</td>\n",
       "      <td>0.0</td>\n",
       "    </tr>\n",
       "    <tr>\n",
       "      <th>4</th>\n",
       "      <td>2019-01-02</td>\n",
       "      <td>100335</td>\n",
       "      <td>SHAMPOO PROCAO 500ML PELOS CLAROS</td>\n",
       "      <td>7.99</td>\n",
       "      <td>1.0</td>\n",
       "      <td>0.00</td>\n",
       "      <td>0.0</td>\n",
       "      <td>1</td>\n",
       "      <td>0.0</td>\n",
       "    </tr>\n",
       "  </tbody>\n",
       "</table>\n",
       "</div>"
      ],
      "text/plain": [
       "         data  produtoId                                  descr  valor  \\\n",
       "0  2019-01-02       1001  CREME DENTAL CLOSEUP TRIPLE 70G MENTA   2.79   \n",
       "1  2019-01-02   10012802                 MASTRUZ HORTA VERDE UN  19.90   \n",
       "2  2019-01-02      10022                 LIXA UNHA M BONI 6 UND   2.59   \n",
       "3  2019-01-02     100328               POLVILHO YOKI 500G AZEDO   9.49   \n",
       "4  2019-01-02     100335      SHAMPOO PROCAO 500ML PELOS CLAROS   7.99   \n",
       "\n",
       "   quantidade  valorCancelado  quantidadeCancelada  quantidadeDocumentos  \\\n",
       "0         1.0            0.00                  0.0                     1   \n",
       "1        10.0            3.98                  2.0                     9   \n",
       "2         1.0            0.00                  0.0                     1   \n",
       "3         1.0            0.00                  0.0                     1   \n",
       "4         1.0            0.00                  0.0                     1   \n",
       "\n",
       "   quantidadeValorZero  \n",
       "0                  0.0  \n",
       "1                  0.0  \n",
       "2                  0.0  \n",
       "3                  0.0  \n",
       "4                  0.0  "
      ]
     },
     "execution_count": 3,
     "metadata": {},
     "output_type": "execute_result"
    }
   ],
   "source": [
    "data.head()"
   ]
  },
  {
   "cell_type": "code",
   "execution_count": 4,
   "metadata": {},
   "outputs": [
    {
     "data": {
      "text/plain": [
       "1029903"
      ]
     },
     "execution_count": 4,
     "metadata": {},
     "output_type": "execute_result"
    }
   ],
   "source": [
    "len(data)"
   ]
  },
  {
   "cell_type": "code",
   "execution_count": 5,
   "metadata": {},
   "outputs": [],
   "source": [
    "data.index = data['data']"
   ]
  },
  {
   "cell_type": "code",
   "execution_count": 6,
   "metadata": {},
   "outputs": [],
   "source": [
    "data.sort_index(inplace=True)"
   ]
  },
  {
   "cell_type": "code",
   "execution_count": 7,
   "metadata": {},
   "outputs": [
    {
     "data": {
      "text/html": [
       "<div>\n",
       "<style scoped>\n",
       "    .dataframe tbody tr th:only-of-type {\n",
       "        vertical-align: middle;\n",
       "    }\n",
       "\n",
       "    .dataframe tbody tr th {\n",
       "        vertical-align: top;\n",
       "    }\n",
       "\n",
       "    .dataframe thead th {\n",
       "        text-align: right;\n",
       "    }\n",
       "</style>\n",
       "<table border=\"1\" class=\"dataframe\">\n",
       "  <thead>\n",
       "    <tr style=\"text-align: right;\">\n",
       "      <th></th>\n",
       "      <th>data</th>\n",
       "      <th>produtoId</th>\n",
       "      <th>descr</th>\n",
       "      <th>valor</th>\n",
       "      <th>quantidade</th>\n",
       "      <th>valorCancelado</th>\n",
       "      <th>quantidadeCancelada</th>\n",
       "      <th>quantidadeDocumentos</th>\n",
       "      <th>quantidadeValorZero</th>\n",
       "    </tr>\n",
       "    <tr>\n",
       "      <th>data</th>\n",
       "      <th></th>\n",
       "      <th></th>\n",
       "      <th></th>\n",
       "      <th></th>\n",
       "      <th></th>\n",
       "      <th></th>\n",
       "      <th></th>\n",
       "      <th></th>\n",
       "      <th></th>\n",
       "    </tr>\n",
       "  </thead>\n",
       "  <tbody>\n",
       "    <tr>\n",
       "      <th>2019-01-02</th>\n",
       "      <td>2019-01-02</td>\n",
       "      <td>1001</td>\n",
       "      <td>CREME DENTAL CLOSEUP TRIPLE 70G MENTA</td>\n",
       "      <td>2.79</td>\n",
       "      <td>1.0</td>\n",
       "      <td>0.00</td>\n",
       "      <td>0.0</td>\n",
       "      <td>1</td>\n",
       "      <td>0.0</td>\n",
       "    </tr>\n",
       "    <tr>\n",
       "      <th>2019-01-02</th>\n",
       "      <td>2019-01-02</td>\n",
       "      <td>10012802</td>\n",
       "      <td>MASTRUZ HORTA VERDE UN</td>\n",
       "      <td>19.90</td>\n",
       "      <td>10.0</td>\n",
       "      <td>3.98</td>\n",
       "      <td>2.0</td>\n",
       "      <td>9</td>\n",
       "      <td>0.0</td>\n",
       "    </tr>\n",
       "    <tr>\n",
       "      <th>2019-01-02</th>\n",
       "      <td>2019-01-02</td>\n",
       "      <td>10022</td>\n",
       "      <td>LIXA UNHA M BONI 6 UND</td>\n",
       "      <td>2.59</td>\n",
       "      <td>1.0</td>\n",
       "      <td>0.00</td>\n",
       "      <td>0.0</td>\n",
       "      <td>1</td>\n",
       "      <td>0.0</td>\n",
       "    </tr>\n",
       "    <tr>\n",
       "      <th>2019-01-02</th>\n",
       "      <td>2019-01-02</td>\n",
       "      <td>100328</td>\n",
       "      <td>POLVILHO YOKI 500G AZEDO</td>\n",
       "      <td>9.49</td>\n",
       "      <td>1.0</td>\n",
       "      <td>0.00</td>\n",
       "      <td>0.0</td>\n",
       "      <td>1</td>\n",
       "      <td>0.0</td>\n",
       "    </tr>\n",
       "    <tr>\n",
       "      <th>2019-01-02</th>\n",
       "      <td>2019-01-02</td>\n",
       "      <td>100335</td>\n",
       "      <td>SHAMPOO PROCAO 500ML PELOS CLAROS</td>\n",
       "      <td>7.99</td>\n",
       "      <td>1.0</td>\n",
       "      <td>0.00</td>\n",
       "      <td>0.0</td>\n",
       "      <td>1</td>\n",
       "      <td>0.0</td>\n",
       "    </tr>\n",
       "  </tbody>\n",
       "</table>\n",
       "</div>"
      ],
      "text/plain": [
       "                  data  produtoId                                  descr  \\\n",
       "data                                                                       \n",
       "2019-01-02  2019-01-02       1001  CREME DENTAL CLOSEUP TRIPLE 70G MENTA   \n",
       "2019-01-02  2019-01-02   10012802                 MASTRUZ HORTA VERDE UN   \n",
       "2019-01-02  2019-01-02      10022                 LIXA UNHA M BONI 6 UND   \n",
       "2019-01-02  2019-01-02     100328               POLVILHO YOKI 500G AZEDO   \n",
       "2019-01-02  2019-01-02     100335      SHAMPOO PROCAO 500ML PELOS CLAROS   \n",
       "\n",
       "            valor  quantidade  valorCancelado  quantidadeCancelada  \\\n",
       "data                                                                 \n",
       "2019-01-02   2.79         1.0            0.00                  0.0   \n",
       "2019-01-02  19.90        10.0            3.98                  2.0   \n",
       "2019-01-02   2.59         1.0            0.00                  0.0   \n",
       "2019-01-02   9.49         1.0            0.00                  0.0   \n",
       "2019-01-02   7.99         1.0            0.00                  0.0   \n",
       "\n",
       "            quantidadeDocumentos  quantidadeValorZero  \n",
       "data                                                   \n",
       "2019-01-02                     1                  0.0  \n",
       "2019-01-02                     9                  0.0  \n",
       "2019-01-02                     1                  0.0  \n",
       "2019-01-02                     1                  0.0  \n",
       "2019-01-02                     1                  0.0  "
      ]
     },
     "execution_count": 7,
     "metadata": {},
     "output_type": "execute_result"
    }
   ],
   "source": [
    "data.head()"
   ]
  },
  {
   "cell_type": "markdown",
   "metadata": {},
   "source": [
    "### Top 10 products 09517617000153_3.csv"
   ]
  },
  {
   "cell_type": "code",
   "execution_count": 8,
   "metadata": {},
   "outputs": [
    {
     "data": {
      "text/plain": [
       "['TEMPERO COMPLETO PARCERIA 500ML',\n",
       " 'MAMAO FORMOSA KG',\n",
       " 'LIMAO TAITI KG',\n",
       " 'BEBIDA LACTEA NESCAU 200ML',\n",
       " 'CUPIM BOV FRIBOI B KG',\n",
       " 'REFRESCO PO FRISCO 25G UVA',\n",
       " 'BATATA DOCE KG',\n",
       " 'PRESUNTO PERU SADIA FT',\n",
       " 'REFRIGERANTE COCA COLA 250ML PET',\n",
       " 'REFRESCO PO FRISCO 25G ABACAXI']"
      ]
     },
     "execution_count": 8,
     "metadata": {},
     "output_type": "execute_result"
    }
   ],
   "source": [
    "top10prods = data['descr'].value_counts()[:10]\n",
    "top10prods = list(top10prods.index)\n",
    "top10prods"
   ]
  },
  {
   "cell_type": "code",
   "execution_count": 9,
   "metadata": {},
   "outputs": [
    {
     "data": {
      "text/plain": [
       "['data',\n",
       " 'produtoId',\n",
       " 'descr',\n",
       " 'valor',\n",
       " 'quantidade',\n",
       " 'valorCancelado',\n",
       " 'quantidadeCancelada',\n",
       " 'quantidadeDocumentos',\n",
       " 'quantidadeValorZero']"
      ]
     },
     "execution_count": 9,
     "metadata": {},
     "output_type": "execute_result"
    }
   ],
   "source": [
    "list(data.columns)"
   ]
  },
  {
   "cell_type": "code",
   "execution_count": 10,
   "metadata": {},
   "outputs": [],
   "source": [
    "frames = []"
   ]
  },
  {
   "cell_type": "code",
   "execution_count": 11,
   "metadata": {},
   "outputs": [],
   "source": [
    "for produto in top10prods:\n",
    "    frames.append(pd.DataFrame(data.loc[data['descr'] == produto]))"
   ]
  },
  {
   "cell_type": "code",
   "execution_count": 12,
   "metadata": {},
   "outputs": [],
   "source": [
    "data_top10 = pd.concat(frames)"
   ]
  },
  {
   "cell_type": "code",
   "execution_count": 13,
   "metadata": {},
   "outputs": [
    {
     "data": {
      "text/html": [
       "<div>\n",
       "<style scoped>\n",
       "    .dataframe tbody tr th:only-of-type {\n",
       "        vertical-align: middle;\n",
       "    }\n",
       "\n",
       "    .dataframe tbody tr th {\n",
       "        vertical-align: top;\n",
       "    }\n",
       "\n",
       "    .dataframe thead th {\n",
       "        text-align: right;\n",
       "    }\n",
       "</style>\n",
       "<table border=\"1\" class=\"dataframe\">\n",
       "  <thead>\n",
       "    <tr style=\"text-align: right;\">\n",
       "      <th></th>\n",
       "      <th>data</th>\n",
       "      <th>produtoId</th>\n",
       "      <th>descr</th>\n",
       "      <th>valor</th>\n",
       "      <th>quantidade</th>\n",
       "      <th>valorCancelado</th>\n",
       "      <th>quantidadeCancelada</th>\n",
       "      <th>quantidadeDocumentos</th>\n",
       "      <th>quantidadeValorZero</th>\n",
       "    </tr>\n",
       "    <tr>\n",
       "      <th>data</th>\n",
       "      <th></th>\n",
       "      <th></th>\n",
       "      <th></th>\n",
       "      <th></th>\n",
       "      <th></th>\n",
       "      <th></th>\n",
       "      <th></th>\n",
       "      <th></th>\n",
       "      <th></th>\n",
       "    </tr>\n",
       "  </thead>\n",
       "  <tbody>\n",
       "    <tr>\n",
       "      <th>2019-01-02</th>\n",
       "      <td>2019-01-02</td>\n",
       "      <td>12221</td>\n",
       "      <td>TEMPERO COMPLETO PARCERIA 500ML</td>\n",
       "      <td>69.29</td>\n",
       "      <td>41.0</td>\n",
       "      <td>0.0</td>\n",
       "      <td>0.0</td>\n",
       "      <td>33</td>\n",
       "      <td>0.0</td>\n",
       "    </tr>\n",
       "    <tr>\n",
       "      <th>2019-01-03</th>\n",
       "      <td>2019-01-03</td>\n",
       "      <td>12221</td>\n",
       "      <td>TEMPERO COMPLETO PARCERIA 500ML</td>\n",
       "      <td>54.08</td>\n",
       "      <td>32.0</td>\n",
       "      <td>0.0</td>\n",
       "      <td>0.0</td>\n",
       "      <td>27</td>\n",
       "      <td>0.0</td>\n",
       "    </tr>\n",
       "    <tr>\n",
       "      <th>2019-01-04</th>\n",
       "      <td>2019-01-04</td>\n",
       "      <td>12221</td>\n",
       "      <td>TEMPERO COMPLETO PARCERIA 500ML</td>\n",
       "      <td>35.49</td>\n",
       "      <td>21.0</td>\n",
       "      <td>0.0</td>\n",
       "      <td>0.0</td>\n",
       "      <td>18</td>\n",
       "      <td>0.0</td>\n",
       "    </tr>\n",
       "    <tr>\n",
       "      <th>2019-01-05</th>\n",
       "      <td>2019-01-05</td>\n",
       "      <td>12221</td>\n",
       "      <td>TEMPERO COMPLETO PARCERIA 500ML</td>\n",
       "      <td>50.70</td>\n",
       "      <td>30.0</td>\n",
       "      <td>0.0</td>\n",
       "      <td>0.0</td>\n",
       "      <td>23</td>\n",
       "      <td>0.0</td>\n",
       "    </tr>\n",
       "    <tr>\n",
       "      <th>2019-01-06</th>\n",
       "      <td>2019-01-06</td>\n",
       "      <td>12221</td>\n",
       "      <td>TEMPERO COMPLETO PARCERIA 500ML</td>\n",
       "      <td>20.28</td>\n",
       "      <td>12.0</td>\n",
       "      <td>0.0</td>\n",
       "      <td>0.0</td>\n",
       "      <td>10</td>\n",
       "      <td>0.0</td>\n",
       "    </tr>\n",
       "  </tbody>\n",
       "</table>\n",
       "</div>"
      ],
      "text/plain": [
       "                  data  produtoId                            descr  valor  \\\n",
       "data                                                                        \n",
       "2019-01-02  2019-01-02      12221  TEMPERO COMPLETO PARCERIA 500ML  69.29   \n",
       "2019-01-03  2019-01-03      12221  TEMPERO COMPLETO PARCERIA 500ML  54.08   \n",
       "2019-01-04  2019-01-04      12221  TEMPERO COMPLETO PARCERIA 500ML  35.49   \n",
       "2019-01-05  2019-01-05      12221  TEMPERO COMPLETO PARCERIA 500ML  50.70   \n",
       "2019-01-06  2019-01-06      12221  TEMPERO COMPLETO PARCERIA 500ML  20.28   \n",
       "\n",
       "            quantidade  valorCancelado  quantidadeCancelada  \\\n",
       "data                                                          \n",
       "2019-01-02        41.0             0.0                  0.0   \n",
       "2019-01-03        32.0             0.0                  0.0   \n",
       "2019-01-04        21.0             0.0                  0.0   \n",
       "2019-01-05        30.0             0.0                  0.0   \n",
       "2019-01-06        12.0             0.0                  0.0   \n",
       "\n",
       "            quantidadeDocumentos  quantidadeValorZero  \n",
       "data                                                   \n",
       "2019-01-02                    33                  0.0  \n",
       "2019-01-03                    27                  0.0  \n",
       "2019-01-04                    18                  0.0  \n",
       "2019-01-05                    23                  0.0  \n",
       "2019-01-06                    10                  0.0  "
      ]
     },
     "execution_count": 13,
     "metadata": {},
     "output_type": "execute_result"
    }
   ],
   "source": [
    "data_top10.head()"
   ]
  },
  {
   "cell_type": "code",
   "execution_count": 14,
   "metadata": {},
   "outputs": [
    {
     "data": {
      "text/html": [
       "<div>\n",
       "<style scoped>\n",
       "    .dataframe tbody tr th:only-of-type {\n",
       "        vertical-align: middle;\n",
       "    }\n",
       "\n",
       "    .dataframe tbody tr th {\n",
       "        vertical-align: top;\n",
       "    }\n",
       "\n",
       "    .dataframe thead th {\n",
       "        text-align: right;\n",
       "    }\n",
       "</style>\n",
       "<table border=\"1\" class=\"dataframe\">\n",
       "  <thead>\n",
       "    <tr style=\"text-align: right;\">\n",
       "      <th></th>\n",
       "      <th>data</th>\n",
       "      <th>produtoId</th>\n",
       "      <th>descr</th>\n",
       "      <th>valor</th>\n",
       "      <th>quantidade</th>\n",
       "      <th>valorCancelado</th>\n",
       "      <th>quantidadeCancelada</th>\n",
       "      <th>quantidadeDocumentos</th>\n",
       "      <th>quantidadeValorZero</th>\n",
       "    </tr>\n",
       "    <tr>\n",
       "      <th>data</th>\n",
       "      <th></th>\n",
       "      <th></th>\n",
       "      <th></th>\n",
       "      <th></th>\n",
       "      <th></th>\n",
       "      <th></th>\n",
       "      <th></th>\n",
       "      <th></th>\n",
       "      <th></th>\n",
       "    </tr>\n",
       "  </thead>\n",
       "  <tbody>\n",
       "    <tr>\n",
       "      <th>2020-02-28</th>\n",
       "      <td>2020-02-28</td>\n",
       "      <td>68574</td>\n",
       "      <td>REFRESCO PO FRISCO 25G ABACAXI</td>\n",
       "      <td>7.13</td>\n",
       "      <td>9.0</td>\n",
       "      <td>0.0</td>\n",
       "      <td>0.0</td>\n",
       "      <td>6</td>\n",
       "      <td>0.0</td>\n",
       "    </tr>\n",
       "    <tr>\n",
       "      <th>2020-02-29</th>\n",
       "      <td>2020-02-29</td>\n",
       "      <td>68574</td>\n",
       "      <td>REFRESCO PO FRISCO 25G ABACAXI</td>\n",
       "      <td>21.40</td>\n",
       "      <td>28.0</td>\n",
       "      <td>0.0</td>\n",
       "      <td>0.0</td>\n",
       "      <td>18</td>\n",
       "      <td>0.0</td>\n",
       "    </tr>\n",
       "    <tr>\n",
       "      <th>2020-03-01</th>\n",
       "      <td>2020-03-01</td>\n",
       "      <td>68574</td>\n",
       "      <td>REFRESCO PO FRISCO 25G ABACAXI</td>\n",
       "      <td>14.25</td>\n",
       "      <td>17.0</td>\n",
       "      <td>0.0</td>\n",
       "      <td>0.0</td>\n",
       "      <td>13</td>\n",
       "      <td>0.0</td>\n",
       "    </tr>\n",
       "    <tr>\n",
       "      <th>2020-03-02</th>\n",
       "      <td>2020-03-02</td>\n",
       "      <td>68574</td>\n",
       "      <td>REFRESCO PO FRISCO 25G ABACAXI</td>\n",
       "      <td>13.45</td>\n",
       "      <td>19.0</td>\n",
       "      <td>0.0</td>\n",
       "      <td>0.0</td>\n",
       "      <td>15</td>\n",
       "      <td>0.0</td>\n",
       "    </tr>\n",
       "    <tr>\n",
       "      <th>2020-03-03</th>\n",
       "      <td>2020-03-03</td>\n",
       "      <td>68574</td>\n",
       "      <td>REFRESCO PO FRISCO 25G ABACAXI</td>\n",
       "      <td>8.69</td>\n",
       "      <td>11.0</td>\n",
       "      <td>0.0</td>\n",
       "      <td>0.0</td>\n",
       "      <td>8</td>\n",
       "      <td>0.0</td>\n",
       "    </tr>\n",
       "  </tbody>\n",
       "</table>\n",
       "</div>"
      ],
      "text/plain": [
       "                  data  produtoId                           descr  valor  \\\n",
       "data                                                                       \n",
       "2020-02-28  2020-02-28      68574  REFRESCO PO FRISCO 25G ABACAXI   7.13   \n",
       "2020-02-29  2020-02-29      68574  REFRESCO PO FRISCO 25G ABACAXI  21.40   \n",
       "2020-03-01  2020-03-01      68574  REFRESCO PO FRISCO 25G ABACAXI  14.25   \n",
       "2020-03-02  2020-03-02      68574  REFRESCO PO FRISCO 25G ABACAXI  13.45   \n",
       "2020-03-03  2020-03-03      68574  REFRESCO PO FRISCO 25G ABACAXI   8.69   \n",
       "\n",
       "            quantidade  valorCancelado  quantidadeCancelada  \\\n",
       "data                                                          \n",
       "2020-02-28         9.0             0.0                  0.0   \n",
       "2020-02-29        28.0             0.0                  0.0   \n",
       "2020-03-01        17.0             0.0                  0.0   \n",
       "2020-03-02        19.0             0.0                  0.0   \n",
       "2020-03-03        11.0             0.0                  0.0   \n",
       "\n",
       "            quantidadeDocumentos  quantidadeValorZero  \n",
       "data                                                   \n",
       "2020-02-28                     6                  0.0  \n",
       "2020-02-29                    18                  0.0  \n",
       "2020-03-01                    13                  0.0  \n",
       "2020-03-02                    15                  0.0  \n",
       "2020-03-03                     8                  0.0  "
      ]
     },
     "execution_count": 14,
     "metadata": {},
     "output_type": "execute_result"
    }
   ],
   "source": [
    "data_top10.tail()"
   ]
  },
  {
   "cell_type": "markdown",
   "metadata": {},
   "source": [
    "## Pre processing dataset to predict"
   ]
  },
  {
   "cell_type": "markdown",
   "metadata": {},
   "source": [
    "### Creating dicionary with top 10 products "
   ]
  },
  {
   "cell_type": "code",
   "execution_count": 15,
   "metadata": {},
   "outputs": [
    {
     "data": {
      "text/plain": [
       "[12221, 2202, 3698, 59909, 3544, 233064, 2004, 178099, 25997, 68574]"
      ]
     },
     "execution_count": 15,
     "metadata": {},
     "output_type": "execute_result"
    }
   ],
   "source": [
    "top_10_prods = list(data_top10.produtoId.unique())\n",
    "top_10_prods"
   ]
  },
  {
   "cell_type": "code",
   "execution_count": 16,
   "metadata": {},
   "outputs": [],
   "source": [
    "dicionario_data_top10 = {}\n",
    "for produto  in top_10_prods:\n",
    "    dicionario_data_top10[produto] = data_top10[data_top10['produtoId'] == int(produto)]"
   ]
  },
  {
   "cell_type": "code",
   "execution_count": 17,
   "metadata": {},
   "outputs": [
    {
     "data": {
      "text/plain": [
       "dict_keys([12221, 2202, 3698, 59909, 3544, 233064, 2004, 178099, 25997, 68574])"
      ]
     },
     "execution_count": 17,
     "metadata": {},
     "output_type": "execute_result"
    }
   ],
   "source": [
    "dicionario_data_top10.keys()"
   ]
  },
  {
   "cell_type": "code",
   "execution_count": 18,
   "metadata": {},
   "outputs": [
    {
     "data": {
      "text/html": [
       "<div>\n",
       "<style scoped>\n",
       "    .dataframe tbody tr th:only-of-type {\n",
       "        vertical-align: middle;\n",
       "    }\n",
       "\n",
       "    .dataframe tbody tr th {\n",
       "        vertical-align: top;\n",
       "    }\n",
       "\n",
       "    .dataframe thead th {\n",
       "        text-align: right;\n",
       "    }\n",
       "</style>\n",
       "<table border=\"1\" class=\"dataframe\">\n",
       "  <thead>\n",
       "    <tr style=\"text-align: right;\">\n",
       "      <th></th>\n",
       "      <th>data</th>\n",
       "      <th>produtoId</th>\n",
       "      <th>descr</th>\n",
       "      <th>valor</th>\n",
       "      <th>quantidade</th>\n",
       "      <th>valorCancelado</th>\n",
       "      <th>quantidadeCancelada</th>\n",
       "      <th>quantidadeDocumentos</th>\n",
       "      <th>quantidadeValorZero</th>\n",
       "    </tr>\n",
       "    <tr>\n",
       "      <th>data</th>\n",
       "      <th></th>\n",
       "      <th></th>\n",
       "      <th></th>\n",
       "      <th></th>\n",
       "      <th></th>\n",
       "      <th></th>\n",
       "      <th></th>\n",
       "      <th></th>\n",
       "      <th></th>\n",
       "    </tr>\n",
       "  </thead>\n",
       "  <tbody>\n",
       "    <tr>\n",
       "      <th>2019-01-02</th>\n",
       "      <td>2019-01-02</td>\n",
       "      <td>12221</td>\n",
       "      <td>TEMPERO COMPLETO PARCERIA 500ML</td>\n",
       "      <td>69.29</td>\n",
       "      <td>41.0</td>\n",
       "      <td>0.0</td>\n",
       "      <td>0.0</td>\n",
       "      <td>33</td>\n",
       "      <td>0.0</td>\n",
       "    </tr>\n",
       "    <tr>\n",
       "      <th>2019-01-03</th>\n",
       "      <td>2019-01-03</td>\n",
       "      <td>12221</td>\n",
       "      <td>TEMPERO COMPLETO PARCERIA 500ML</td>\n",
       "      <td>54.08</td>\n",
       "      <td>32.0</td>\n",
       "      <td>0.0</td>\n",
       "      <td>0.0</td>\n",
       "      <td>27</td>\n",
       "      <td>0.0</td>\n",
       "    </tr>\n",
       "    <tr>\n",
       "      <th>2019-01-04</th>\n",
       "      <td>2019-01-04</td>\n",
       "      <td>12221</td>\n",
       "      <td>TEMPERO COMPLETO PARCERIA 500ML</td>\n",
       "      <td>35.49</td>\n",
       "      <td>21.0</td>\n",
       "      <td>0.0</td>\n",
       "      <td>0.0</td>\n",
       "      <td>18</td>\n",
       "      <td>0.0</td>\n",
       "    </tr>\n",
       "    <tr>\n",
       "      <th>2019-01-05</th>\n",
       "      <td>2019-01-05</td>\n",
       "      <td>12221</td>\n",
       "      <td>TEMPERO COMPLETO PARCERIA 500ML</td>\n",
       "      <td>50.70</td>\n",
       "      <td>30.0</td>\n",
       "      <td>0.0</td>\n",
       "      <td>0.0</td>\n",
       "      <td>23</td>\n",
       "      <td>0.0</td>\n",
       "    </tr>\n",
       "    <tr>\n",
       "      <th>2019-01-06</th>\n",
       "      <td>2019-01-06</td>\n",
       "      <td>12221</td>\n",
       "      <td>TEMPERO COMPLETO PARCERIA 500ML</td>\n",
       "      <td>20.28</td>\n",
       "      <td>12.0</td>\n",
       "      <td>0.0</td>\n",
       "      <td>0.0</td>\n",
       "      <td>10</td>\n",
       "      <td>0.0</td>\n",
       "    </tr>\n",
       "  </tbody>\n",
       "</table>\n",
       "</div>"
      ],
      "text/plain": [
       "                  data  produtoId                            descr  valor  \\\n",
       "data                                                                        \n",
       "2019-01-02  2019-01-02      12221  TEMPERO COMPLETO PARCERIA 500ML  69.29   \n",
       "2019-01-03  2019-01-03      12221  TEMPERO COMPLETO PARCERIA 500ML  54.08   \n",
       "2019-01-04  2019-01-04      12221  TEMPERO COMPLETO PARCERIA 500ML  35.49   \n",
       "2019-01-05  2019-01-05      12221  TEMPERO COMPLETO PARCERIA 500ML  50.70   \n",
       "2019-01-06  2019-01-06      12221  TEMPERO COMPLETO PARCERIA 500ML  20.28   \n",
       "\n",
       "            quantidade  valorCancelado  quantidadeCancelada  \\\n",
       "data                                                          \n",
       "2019-01-02        41.0             0.0                  0.0   \n",
       "2019-01-03        32.0             0.0                  0.0   \n",
       "2019-01-04        21.0             0.0                  0.0   \n",
       "2019-01-05        30.0             0.0                  0.0   \n",
       "2019-01-06        12.0             0.0                  0.0   \n",
       "\n",
       "            quantidadeDocumentos  quantidadeValorZero  \n",
       "data                                                   \n",
       "2019-01-02                    33                  0.0  \n",
       "2019-01-03                    27                  0.0  \n",
       "2019-01-04                    18                  0.0  \n",
       "2019-01-05                    23                  0.0  \n",
       "2019-01-06                    10                  0.0  "
      ]
     },
     "execution_count": 18,
     "metadata": {},
     "output_type": "execute_result"
    }
   ],
   "source": [
    "dicionario_data_top10[next(iter(dicionario_data_top10))].head()"
   ]
  },
  {
   "cell_type": "markdown",
   "metadata": {},
   "source": [
    "### Creating date features and removing features unnecessary"
   ]
  },
  {
   "cell_type": "code",
   "execution_count": 19,
   "metadata": {},
   "outputs": [],
   "source": [
    "import holidays\n",
    "\n",
    "def isWeekend(n):\n",
    "    if n <5:\n",
    "        return 0\n",
    "    else:\n",
    "        return 1\n",
    "\n",
    "def isStartMes(n):\n",
    "    if ( n > 30):\n",
    "        return 1\n",
    "    elif (n < 10):\n",
    "        return 1\n",
    "    else:\n",
    "        return 0\n",
    "\n",
    "def isHoliday(date):\n",
    "    br_holidays = holidays.BR()\n",
    "    if ((date in br_holidays)):\n",
    "        return 1\n",
    "    else:\n",
    "        return 0\n"
   ]
  },
  {
   "cell_type": "code",
   "execution_count": 20,
   "metadata": {},
   "outputs": [],
   "source": [
    "def adjuste_df(dataframe):\n",
    "    dataframe[[\"produtoId\"]]              =  dataframe[[\"produtoId\"]].astype(str)\n",
    "    dataframe[[\"data\"]]                   =  dataframe[[\"data\"]].apply(pd.to_datetime)\n",
    "    dataframe['valor_unit']               =  round(dataframe[\"valor\"]/dataframe[\"quantidade\"],2)\n",
    "    dataframe['ano']                      =  pd.DatetimeIndex(dataframe['data']).year\n",
    "    dataframe['mes']                      =  pd.DatetimeIndex(dataframe['data']).month\n",
    "    dataframe['dia_semana']               =  pd.DatetimeIndex(dataframe['data']).dayofweek\n",
    "    dataframe['dia']                      =  pd.DatetimeIndex(dataframe['data']).day\n",
    "    dataframe['fim_semana']               =  dataframe['dia_semana'].apply(lambda x: isWeekend((x)))\n",
    "    dataframe['inicio_mes']               =  dataframe['dia'].apply(lambda x: isStartMes((x)))\n",
    "    dataframe['feriado']                  =  dataframe['data'].apply(lambda x: isHoliday((x)))\n",
    "    \n",
    "        \n",
    "    dataframe = dataframe[['valor_unit','mes','dia_semana', 'dia', 'fim_semana', 'inicio_mes',\n",
    "                           'feriado', 'quantidade' ]]\n",
    "    \n",
    "    return dataframe\n"
   ]
  },
  {
   "cell_type": "code",
   "execution_count": 21,
   "metadata": {},
   "outputs": [
    {
     "name": "stdout",
     "output_type": "stream",
     "text": [
      "product id: 12221\n"
     ]
    }
   ],
   "source": [
    "print('product id:', next(iter(dicionario_data_top10)))"
   ]
  },
  {
   "cell_type": "code",
   "execution_count": 22,
   "metadata": {},
   "outputs": [],
   "source": [
    "df_to_pred = adjuste_df(dicionario_data_top10[next(iter(dicionario_data_top10))])"
   ]
  },
  {
   "cell_type": "code",
   "execution_count": 23,
   "metadata": {},
   "outputs": [
    {
     "data": {
      "text/html": [
       "<div>\n",
       "<style scoped>\n",
       "    .dataframe tbody tr th:only-of-type {\n",
       "        vertical-align: middle;\n",
       "    }\n",
       "\n",
       "    .dataframe tbody tr th {\n",
       "        vertical-align: top;\n",
       "    }\n",
       "\n",
       "    .dataframe thead th {\n",
       "        text-align: right;\n",
       "    }\n",
       "</style>\n",
       "<table border=\"1\" class=\"dataframe\">\n",
       "  <thead>\n",
       "    <tr style=\"text-align: right;\">\n",
       "      <th></th>\n",
       "      <th>valor_unit</th>\n",
       "      <th>mes</th>\n",
       "      <th>dia_semana</th>\n",
       "      <th>dia</th>\n",
       "      <th>fim_semana</th>\n",
       "      <th>inicio_mes</th>\n",
       "      <th>feriado</th>\n",
       "      <th>quantidade</th>\n",
       "    </tr>\n",
       "    <tr>\n",
       "      <th>data</th>\n",
       "      <th></th>\n",
       "      <th></th>\n",
       "      <th></th>\n",
       "      <th></th>\n",
       "      <th></th>\n",
       "      <th></th>\n",
       "      <th></th>\n",
       "      <th></th>\n",
       "    </tr>\n",
       "  </thead>\n",
       "  <tbody>\n",
       "    <tr>\n",
       "      <th>2019-01-02</th>\n",
       "      <td>1.69</td>\n",
       "      <td>1</td>\n",
       "      <td>2</td>\n",
       "      <td>2</td>\n",
       "      <td>0</td>\n",
       "      <td>1</td>\n",
       "      <td>0</td>\n",
       "      <td>41.0</td>\n",
       "    </tr>\n",
       "    <tr>\n",
       "      <th>2019-01-03</th>\n",
       "      <td>1.69</td>\n",
       "      <td>1</td>\n",
       "      <td>3</td>\n",
       "      <td>3</td>\n",
       "      <td>0</td>\n",
       "      <td>1</td>\n",
       "      <td>0</td>\n",
       "      <td>32.0</td>\n",
       "    </tr>\n",
       "    <tr>\n",
       "      <th>2019-01-04</th>\n",
       "      <td>1.69</td>\n",
       "      <td>1</td>\n",
       "      <td>4</td>\n",
       "      <td>4</td>\n",
       "      <td>0</td>\n",
       "      <td>1</td>\n",
       "      <td>0</td>\n",
       "      <td>21.0</td>\n",
       "    </tr>\n",
       "    <tr>\n",
       "      <th>2019-01-05</th>\n",
       "      <td>1.69</td>\n",
       "      <td>1</td>\n",
       "      <td>5</td>\n",
       "      <td>5</td>\n",
       "      <td>1</td>\n",
       "      <td>1</td>\n",
       "      <td>0</td>\n",
       "      <td>30.0</td>\n",
       "    </tr>\n",
       "    <tr>\n",
       "      <th>2019-01-06</th>\n",
       "      <td>1.69</td>\n",
       "      <td>1</td>\n",
       "      <td>6</td>\n",
       "      <td>6</td>\n",
       "      <td>1</td>\n",
       "      <td>1</td>\n",
       "      <td>0</td>\n",
       "      <td>12.0</td>\n",
       "    </tr>\n",
       "  </tbody>\n",
       "</table>\n",
       "</div>"
      ],
      "text/plain": [
       "            valor_unit  mes  dia_semana  dia  fim_semana  inicio_mes  feriado  \\\n",
       "data                                                                            \n",
       "2019-01-02        1.69    1           2    2           0           1        0   \n",
       "2019-01-03        1.69    1           3    3           0           1        0   \n",
       "2019-01-04        1.69    1           4    4           0           1        0   \n",
       "2019-01-05        1.69    1           5    5           1           1        0   \n",
       "2019-01-06        1.69    1           6    6           1           1        0   \n",
       "\n",
       "            quantidade  \n",
       "data                    \n",
       "2019-01-02        41.0  \n",
       "2019-01-03        32.0  \n",
       "2019-01-04        21.0  \n",
       "2019-01-05        30.0  \n",
       "2019-01-06        12.0  "
      ]
     },
     "execution_count": 23,
     "metadata": {},
     "output_type": "execute_result"
    }
   ],
   "source": [
    "df_to_pred.head()"
   ]
  },
  {
   "cell_type": "markdown",
   "metadata": {},
   "source": [
    "### Mahalanobis distance for removing outliers of dataset"
   ]
  },
  {
   "cell_type": "code",
   "execution_count": 24,
   "metadata": {},
   "outputs": [],
   "source": [
    "import scipy as sp\n",
    "from scipy import linalg as ln\n",
    "\n",
    "def mahalanobis(x=None, data=None, cov=None):\n",
    "    \"\"\"Compute the Mahalanobis Distance between each row of x and the data  \n",
    "    x    : vector or matrix of data with, say, p columns.\n",
    "    data : ndarray of the distribution from which Mahalanobis distance of each observation of x is to be computed.\n",
    "    cov  : covariance matrix (p x p) of the distribution. If None, will be computed from data.\n",
    "    \"\"\"\n",
    "    x_minus_mu = x - np.mean(data)\n",
    "    if not cov:\n",
    "        cov = np.cov(data.values.T)\n",
    "    inv_covmat = ln.inv(cov)\n",
    "    left_term = np.dot(x_minus_mu, inv_covmat)\n",
    "    mahal = np.dot(left_term, x_minus_mu.T)\n",
    "    return mahal.diagonal()"
   ]
  },
  {
   "cell_type": "code",
   "execution_count": 25,
   "metadata": {},
   "outputs": [],
   "source": [
    "def mahalanobis_distance_removing_outliers(dataframe):\n",
    "    df_x = dataframe\n",
    "    dataframe['mahala'] = mahalanobis(x=df_x, data=dataframe)\n",
    "    dataframe_without_outliers = dataframe.loc[dataframe['mahala'] <= (dataframe['mahala'].mean() + dataframe['mahala'].std())]\n",
    "    columns = ['mahala']\n",
    "    dataframe_without_outliers.drop(columns, inplace=True, axis=1)\n",
    "    \n",
    "    return dataframe_without_outliers\n"
   ]
  },
  {
   "cell_type": "code",
   "execution_count": 26,
   "metadata": {},
   "outputs": [
    {
     "data": {
      "text/html": [
       "<div>\n",
       "<style scoped>\n",
       "    .dataframe tbody tr th:only-of-type {\n",
       "        vertical-align: middle;\n",
       "    }\n",
       "\n",
       "    .dataframe tbody tr th {\n",
       "        vertical-align: top;\n",
       "    }\n",
       "\n",
       "    .dataframe thead th {\n",
       "        text-align: right;\n",
       "    }\n",
       "</style>\n",
       "<table border=\"1\" class=\"dataframe\">\n",
       "  <thead>\n",
       "    <tr style=\"text-align: right;\">\n",
       "      <th></th>\n",
       "      <th>valor_unit</th>\n",
       "      <th>mes</th>\n",
       "      <th>dia_semana</th>\n",
       "      <th>dia</th>\n",
       "      <th>fim_semana</th>\n",
       "      <th>inicio_mes</th>\n",
       "      <th>feriado</th>\n",
       "      <th>quantidade</th>\n",
       "    </tr>\n",
       "    <tr>\n",
       "      <th>data</th>\n",
       "      <th></th>\n",
       "      <th></th>\n",
       "      <th></th>\n",
       "      <th></th>\n",
       "      <th></th>\n",
       "      <th></th>\n",
       "      <th></th>\n",
       "      <th></th>\n",
       "    </tr>\n",
       "  </thead>\n",
       "  <tbody>\n",
       "    <tr>\n",
       "      <th>2019-01-02</th>\n",
       "      <td>1.69</td>\n",
       "      <td>1</td>\n",
       "      <td>2</td>\n",
       "      <td>2</td>\n",
       "      <td>0</td>\n",
       "      <td>1</td>\n",
       "      <td>0</td>\n",
       "      <td>41.0</td>\n",
       "    </tr>\n",
       "    <tr>\n",
       "      <th>2019-01-03</th>\n",
       "      <td>1.69</td>\n",
       "      <td>1</td>\n",
       "      <td>3</td>\n",
       "      <td>3</td>\n",
       "      <td>0</td>\n",
       "      <td>1</td>\n",
       "      <td>0</td>\n",
       "      <td>32.0</td>\n",
       "    </tr>\n",
       "    <tr>\n",
       "      <th>2019-01-04</th>\n",
       "      <td>1.69</td>\n",
       "      <td>1</td>\n",
       "      <td>4</td>\n",
       "      <td>4</td>\n",
       "      <td>0</td>\n",
       "      <td>1</td>\n",
       "      <td>0</td>\n",
       "      <td>21.0</td>\n",
       "    </tr>\n",
       "    <tr>\n",
       "      <th>2019-01-05</th>\n",
       "      <td>1.69</td>\n",
       "      <td>1</td>\n",
       "      <td>5</td>\n",
       "      <td>5</td>\n",
       "      <td>1</td>\n",
       "      <td>1</td>\n",
       "      <td>0</td>\n",
       "      <td>30.0</td>\n",
       "    </tr>\n",
       "    <tr>\n",
       "      <th>2019-01-06</th>\n",
       "      <td>1.69</td>\n",
       "      <td>1</td>\n",
       "      <td>6</td>\n",
       "      <td>6</td>\n",
       "      <td>1</td>\n",
       "      <td>1</td>\n",
       "      <td>0</td>\n",
       "      <td>12.0</td>\n",
       "    </tr>\n",
       "  </tbody>\n",
       "</table>\n",
       "</div>"
      ],
      "text/plain": [
       "            valor_unit  mes  dia_semana  dia  fim_semana  inicio_mes  feriado  \\\n",
       "data                                                                            \n",
       "2019-01-02        1.69    1           2    2           0           1        0   \n",
       "2019-01-03        1.69    1           3    3           0           1        0   \n",
       "2019-01-04        1.69    1           4    4           0           1        0   \n",
       "2019-01-05        1.69    1           5    5           1           1        0   \n",
       "2019-01-06        1.69    1           6    6           1           1        0   \n",
       "\n",
       "            quantidade  \n",
       "data                    \n",
       "2019-01-02        41.0  \n",
       "2019-01-03        32.0  \n",
       "2019-01-04        21.0  \n",
       "2019-01-05        30.0  \n",
       "2019-01-06        12.0  "
      ]
     },
     "execution_count": 26,
     "metadata": {},
     "output_type": "execute_result"
    }
   ],
   "source": [
    "df_to_pred.head()"
   ]
  },
  {
   "cell_type": "code",
   "execution_count": 27,
   "metadata": {},
   "outputs": [
    {
     "name": "stdout",
     "output_type": "stream",
     "text": [
      "Qtt of samples before removing outliers 425\n"
     ]
    }
   ],
   "source": [
    "print('Qtt of samples before removing outliers',len(df_to_pred))"
   ]
  },
  {
   "cell_type": "code",
   "execution_count": 28,
   "metadata": {},
   "outputs": [],
   "source": [
    "# apply mahalanobis and removing outliers\n",
    "df_to_pred = mahalanobis_distance_removing_outliers(df_to_pred)"
   ]
  },
  {
   "cell_type": "code",
   "execution_count": 29,
   "metadata": {},
   "outputs": [
    {
     "data": {
      "text/html": [
       "<div>\n",
       "<style scoped>\n",
       "    .dataframe tbody tr th:only-of-type {\n",
       "        vertical-align: middle;\n",
       "    }\n",
       "\n",
       "    .dataframe tbody tr th {\n",
       "        vertical-align: top;\n",
       "    }\n",
       "\n",
       "    .dataframe thead th {\n",
       "        text-align: right;\n",
       "    }\n",
       "</style>\n",
       "<table border=\"1\" class=\"dataframe\">\n",
       "  <thead>\n",
       "    <tr style=\"text-align: right;\">\n",
       "      <th></th>\n",
       "      <th>valor_unit</th>\n",
       "      <th>mes</th>\n",
       "      <th>dia_semana</th>\n",
       "      <th>dia</th>\n",
       "      <th>fim_semana</th>\n",
       "      <th>inicio_mes</th>\n",
       "      <th>feriado</th>\n",
       "      <th>quantidade</th>\n",
       "    </tr>\n",
       "    <tr>\n",
       "      <th>data</th>\n",
       "      <th></th>\n",
       "      <th></th>\n",
       "      <th></th>\n",
       "      <th></th>\n",
       "      <th></th>\n",
       "      <th></th>\n",
       "      <th></th>\n",
       "      <th></th>\n",
       "    </tr>\n",
       "  </thead>\n",
       "  <tbody>\n",
       "    <tr>\n",
       "      <th>2019-01-03</th>\n",
       "      <td>1.69</td>\n",
       "      <td>1</td>\n",
       "      <td>3</td>\n",
       "      <td>3</td>\n",
       "      <td>0</td>\n",
       "      <td>1</td>\n",
       "      <td>0</td>\n",
       "      <td>32.0</td>\n",
       "    </tr>\n",
       "    <tr>\n",
       "      <th>2019-01-04</th>\n",
       "      <td>1.69</td>\n",
       "      <td>1</td>\n",
       "      <td>4</td>\n",
       "      <td>4</td>\n",
       "      <td>0</td>\n",
       "      <td>1</td>\n",
       "      <td>0</td>\n",
       "      <td>21.0</td>\n",
       "    </tr>\n",
       "    <tr>\n",
       "      <th>2019-01-05</th>\n",
       "      <td>1.69</td>\n",
       "      <td>1</td>\n",
       "      <td>5</td>\n",
       "      <td>5</td>\n",
       "      <td>1</td>\n",
       "      <td>1</td>\n",
       "      <td>0</td>\n",
       "      <td>30.0</td>\n",
       "    </tr>\n",
       "    <tr>\n",
       "      <th>2019-01-06</th>\n",
       "      <td>1.69</td>\n",
       "      <td>1</td>\n",
       "      <td>6</td>\n",
       "      <td>6</td>\n",
       "      <td>1</td>\n",
       "      <td>1</td>\n",
       "      <td>0</td>\n",
       "      <td>12.0</td>\n",
       "    </tr>\n",
       "    <tr>\n",
       "      <th>2019-01-07</th>\n",
       "      <td>1.69</td>\n",
       "      <td>1</td>\n",
       "      <td>0</td>\n",
       "      <td>7</td>\n",
       "      <td>0</td>\n",
       "      <td>1</td>\n",
       "      <td>0</td>\n",
       "      <td>16.0</td>\n",
       "    </tr>\n",
       "  </tbody>\n",
       "</table>\n",
       "</div>"
      ],
      "text/plain": [
       "            valor_unit  mes  dia_semana  dia  fim_semana  inicio_mes  feriado  \\\n",
       "data                                                                            \n",
       "2019-01-03        1.69    1           3    3           0           1        0   \n",
       "2019-01-04        1.69    1           4    4           0           1        0   \n",
       "2019-01-05        1.69    1           5    5           1           1        0   \n",
       "2019-01-06        1.69    1           6    6           1           1        0   \n",
       "2019-01-07        1.69    1           0    7           0           1        0   \n",
       "\n",
       "            quantidade  \n",
       "data                    \n",
       "2019-01-03        32.0  \n",
       "2019-01-04        21.0  \n",
       "2019-01-05        30.0  \n",
       "2019-01-06        12.0  \n",
       "2019-01-07        16.0  "
      ]
     },
     "execution_count": 29,
     "metadata": {},
     "output_type": "execute_result"
    }
   ],
   "source": [
    "df_to_pred.head()"
   ]
  },
  {
   "cell_type": "code",
   "execution_count": 30,
   "metadata": {},
   "outputs": [
    {
     "name": "stdout",
     "output_type": "stream",
     "text": [
      "Qtt of samples after removing outliers 384\n"
     ]
    }
   ],
   "source": [
    "print('Qtt of samples after removing outliers',len(df_to_pred))"
   ]
  },
  {
   "cell_type": "markdown",
   "metadata": {},
   "source": [
    "## Linear regression with polynomyal features"
   ]
  },
  {
   "cell_type": "code",
   "execution_count": 31,
   "metadata": {},
   "outputs": [
    {
     "name": "stdout",
     "output_type": "stream",
     "text": [
      "<class 'pandas.core.frame.DataFrame'>\n",
      "Index: 384 entries, 2019-01-03 to 2020-03-03\n",
      "Data columns (total 8 columns):\n",
      " #   Column      Non-Null Count  Dtype  \n",
      "---  ------      --------------  -----  \n",
      " 0   valor_unit  384 non-null    float64\n",
      " 1   mes         384 non-null    int64  \n",
      " 2   dia_semana  384 non-null    int64  \n",
      " 3   dia         384 non-null    int64  \n",
      " 4   fim_semana  384 non-null    int64  \n",
      " 5   inicio_mes  384 non-null    int64  \n",
      " 6   feriado     384 non-null    int64  \n",
      " 7   quantidade  384 non-null    float64\n",
      "dtypes: float64(2), int64(6)\n",
      "memory usage: 27.0+ KB\n"
     ]
    }
   ],
   "source": [
    "df_to_pred.info()"
   ]
  },
  {
   "cell_type": "code",
   "execution_count": 32,
   "metadata": {},
   "outputs": [],
   "source": [
    "df_to_pred['dia_semana'] = df_to_pred.dia_semana.astype('category')\n",
    "df_to_pred['dia']        = df_to_pred.dia.astype('category')\n",
    "df_to_pred['fim_semana'] = df_to_pred.fim_semana.astype('category')\n",
    "df_to_pred['inicio_mes'] = df_to_pred.inicio_mes.astype('category')\n",
    "df_to_pred['feriado']    = df_to_pred.feriado.astype('category')"
   ]
  },
  {
   "cell_type": "code",
   "execution_count": 33,
   "metadata": {},
   "outputs": [
    {
     "data": {
      "text/html": [
       "<div>\n",
       "<style scoped>\n",
       "    .dataframe tbody tr th:only-of-type {\n",
       "        vertical-align: middle;\n",
       "    }\n",
       "\n",
       "    .dataframe tbody tr th {\n",
       "        vertical-align: top;\n",
       "    }\n",
       "\n",
       "    .dataframe thead th {\n",
       "        text-align: right;\n",
       "    }\n",
       "</style>\n",
       "<table border=\"1\" class=\"dataframe\">\n",
       "  <thead>\n",
       "    <tr style=\"text-align: right;\">\n",
       "      <th></th>\n",
       "      <th>valor_unit</th>\n",
       "      <th>mes</th>\n",
       "      <th>dia_semana</th>\n",
       "      <th>dia</th>\n",
       "      <th>fim_semana</th>\n",
       "      <th>inicio_mes</th>\n",
       "      <th>feriado</th>\n",
       "      <th>quantidade</th>\n",
       "    </tr>\n",
       "    <tr>\n",
       "      <th>data</th>\n",
       "      <th></th>\n",
       "      <th></th>\n",
       "      <th></th>\n",
       "      <th></th>\n",
       "      <th></th>\n",
       "      <th></th>\n",
       "      <th></th>\n",
       "      <th></th>\n",
       "    </tr>\n",
       "  </thead>\n",
       "  <tbody>\n",
       "    <tr>\n",
       "      <th>2019-01-03</th>\n",
       "      <td>1.69</td>\n",
       "      <td>1</td>\n",
       "      <td>3</td>\n",
       "      <td>3</td>\n",
       "      <td>0</td>\n",
       "      <td>1</td>\n",
       "      <td>0</td>\n",
       "      <td>32.0</td>\n",
       "    </tr>\n",
       "    <tr>\n",
       "      <th>2019-01-04</th>\n",
       "      <td>1.69</td>\n",
       "      <td>1</td>\n",
       "      <td>4</td>\n",
       "      <td>4</td>\n",
       "      <td>0</td>\n",
       "      <td>1</td>\n",
       "      <td>0</td>\n",
       "      <td>21.0</td>\n",
       "    </tr>\n",
       "    <tr>\n",
       "      <th>2019-01-05</th>\n",
       "      <td>1.69</td>\n",
       "      <td>1</td>\n",
       "      <td>5</td>\n",
       "      <td>5</td>\n",
       "      <td>1</td>\n",
       "      <td>1</td>\n",
       "      <td>0</td>\n",
       "      <td>30.0</td>\n",
       "    </tr>\n",
       "    <tr>\n",
       "      <th>2019-01-06</th>\n",
       "      <td>1.69</td>\n",
       "      <td>1</td>\n",
       "      <td>6</td>\n",
       "      <td>6</td>\n",
       "      <td>1</td>\n",
       "      <td>1</td>\n",
       "      <td>0</td>\n",
       "      <td>12.0</td>\n",
       "    </tr>\n",
       "    <tr>\n",
       "      <th>2019-01-07</th>\n",
       "      <td>1.69</td>\n",
       "      <td>1</td>\n",
       "      <td>0</td>\n",
       "      <td>7</td>\n",
       "      <td>0</td>\n",
       "      <td>1</td>\n",
       "      <td>0</td>\n",
       "      <td>16.0</td>\n",
       "    </tr>\n",
       "  </tbody>\n",
       "</table>\n",
       "</div>"
      ],
      "text/plain": [
       "            valor_unit  mes dia_semana dia fim_semana inicio_mes feriado  \\\n",
       "data                                                                       \n",
       "2019-01-03        1.69    1          3   3          0          1       0   \n",
       "2019-01-04        1.69    1          4   4          0          1       0   \n",
       "2019-01-05        1.69    1          5   5          1          1       0   \n",
       "2019-01-06        1.69    1          6   6          1          1       0   \n",
       "2019-01-07        1.69    1          0   7          0          1       0   \n",
       "\n",
       "            quantidade  \n",
       "data                    \n",
       "2019-01-03        32.0  \n",
       "2019-01-04        21.0  \n",
       "2019-01-05        30.0  \n",
       "2019-01-06        12.0  \n",
       "2019-01-07        16.0  "
      ]
     },
     "execution_count": 33,
     "metadata": {},
     "output_type": "execute_result"
    }
   ],
   "source": [
    "df_to_pred.head()"
   ]
  },
  {
   "cell_type": "code",
   "execution_count": 34,
   "metadata": {},
   "outputs": [],
   "source": [
    "from sklearn.preprocessing import PolynomialFeatures\n",
    "from sklearn.linear_model import LinearRegression\n",
    "from sklearn.pipeline import Pipeline\n",
    "from sklearn import metrics"
   ]
  },
  {
   "cell_type": "code",
   "execution_count": 35,
   "metadata": {},
   "outputs": [],
   "source": [
    "# separating label and features\n",
    "X = df_to_pred.drop('quantidade', axis = 1)\n",
    "y = df_to_pred['quantidade']\n",
    "\n",
    "# to plot\n",
    "x = df_to_pred.index"
   ]
  },
  {
   "cell_type": "code",
   "execution_count": 36,
   "metadata": {},
   "outputs": [],
   "source": [
    "model = Pipeline([('poly', PolynomialFeatures(degree=3)),\n",
    "                   ('linear', LinearRegression(fit_intercept=True, normalize=True))])"
   ]
  },
  {
   "cell_type": "code",
   "execution_count": 37,
   "metadata": {},
   "outputs": [
    {
     "data": {
      "text/plain": [
       "Pipeline(memory=None,\n",
       "         steps=[('poly',\n",
       "                 PolynomialFeatures(degree=3, include_bias=True,\n",
       "                                    interaction_only=False, order='C')),\n",
       "                ('linear',\n",
       "                 LinearRegression(copy_X=True, fit_intercept=True, n_jobs=None,\n",
       "                                  normalize=True))],\n",
       "         verbose=False)"
      ]
     },
     "execution_count": 37,
     "metadata": {},
     "output_type": "execute_result"
    }
   ],
   "source": [
    "model.fit(X,y)"
   ]
  },
  {
   "cell_type": "code",
   "execution_count": 38,
   "metadata": {},
   "outputs": [],
   "source": [
    "skpred = model.predict(X)"
   ]
  },
  {
   "cell_type": "code",
   "execution_count": 39,
   "metadata": {},
   "outputs": [
    {
     "data": {
      "text/plain": [
       "19.5"
      ]
     },
     "execution_count": 39,
     "metadata": {},
     "output_type": "execute_result"
    }
   ],
   "source": [
    "skpred[1]"
   ]
  },
  {
   "cell_type": "code",
   "execution_count": 40,
   "metadata": {},
   "outputs": [
    {
     "data": {
      "text/plain": [
       "23.343058268229168"
      ]
     },
     "execution_count": 40,
     "metadata": {},
     "output_type": "execute_result"
    }
   ],
   "source": [
    "mse = metrics.mean_squared_error(y,abs(skpred))\n",
    "mse"
   ]
  },
  {
   "cell_type": "code",
   "execution_count": 41,
   "metadata": {},
   "outputs": [
    {
     "data": {
      "text/plain": [
       "4.831465436927927"
      ]
     },
     "execution_count": 41,
     "metadata": {},
     "output_type": "execute_result"
    }
   ],
   "source": [
    "rmse = np.sqrt(mse)\n",
    "rmse"
   ]
  },
  {
   "cell_type": "code",
   "execution_count": 42,
   "metadata": {},
   "outputs": [
    {
     "data": {
      "text/plain": [
       "[<matplotlib.lines.Line2D at 0x7f2b2b6e7668>]"
      ]
     },
     "execution_count": 42,
     "metadata": {},
     "output_type": "execute_result"
    },
    {
     "data": {
      "image/png": "[encoded data removed]",
      "text/plain": [
       "<Figure size 960x640 with 1 Axes>"
      ]
     },
     "metadata": {
      "needs_background": "light"
     },
     "output_type": "display_data"
    }
   ],
   "source": [
    "plt.rcParams['figure.figsize'] = [12.0 , 8.0]\n",
    "plt.rcParams['figure.dpi'] = 80\n",
    "plt.rcParams['savefig.dpi'] = 100\n",
    "\n",
    "plt.rcParams['font.size'] = 15\n",
    "plt.rcParams['legend.fontsize'] = 'large'\n",
    "plt.rcParams['figure.titlesize'] = 'medium'\n",
    "plt.xticks(rotation=90)\n",
    "\n",
    "plt.plot(x[350:],y[350:])\n",
    "plt.plot(x[350:],skpred[350:], color='red')"
   ]
  },
  {
   "cell_type": "markdown",
   "metadata": {},
   "source": [
    "### Testing Model with another values"
   ]
  },
  {
   "cell_type": "code",
   "execution_count": 43,
   "metadata": {},
   "outputs": [
    {
     "data": {
      "text/plain": [
       "array([[1.69, 1, 3, 3, 0, 1, 0]], dtype=object)"
      ]
     },
     "execution_count": 43,
     "metadata": {},
     "output_type": "execute_result"
    }
   ],
   "source": [
    "np.array(X.head(1))"
   ]
  },
  {
   "cell_type": "code",
   "execution_count": 44,
   "metadata": {},
   "outputs": [
    {
     "data": {
      "text/plain": [
       "1.859"
      ]
     },
     "execution_count": 44,
     "metadata": {},
     "output_type": "execute_result"
    }
   ],
   "source": [
    "new_sample = np.array(X.head(1))\n",
    "new_sample[0][0] = new_sample[0][0]*1.1\n",
    "new_sample[0][0]"
   ]
  },
  {
   "cell_type": "code",
   "execution_count": 45,
   "metadata": {},
   "outputs": [
    {
     "data": {
      "text/plain": [
       "array([[1.859, 1, 3, 3, 0, 1, 0]], dtype=object)"
      ]
     },
     "execution_count": 45,
     "metadata": {},
     "output_type": "execute_result"
    }
   ],
   "source": [
    "new_sample"
   ]
  },
  {
   "cell_type": "code",
   "execution_count": 46,
   "metadata": {},
   "outputs": [
    {
     "data": {
      "text/plain": [
       "array([25.125])"
      ]
     },
     "execution_count": 46,
     "metadata": {},
     "output_type": "execute_result"
    }
   ],
   "source": [
    "model.predict(new_sample)"
   ]
  },
  {
   "cell_type": "markdown",
   "metadata": {},
   "source": [
    "### Script for 10 prods"
   ]
  },
  {
   "cell_type": "code",
   "execution_count": 47,
   "metadata": {},
   "outputs": [],
   "source": [
    "rmse_values = [] \n",
    "\n",
    "for i in dicionario_data_top10:\n",
    "    df_ = adjuste_df(dicionario_data_top10[i])\n",
    "\n",
    "    df_ = mahalanobis_distance_removing_outliers(df_)\n",
    "    \n",
    "    df_['dia_semana'] = df_.dia_semana.astype('category')\n",
    "    df_['dia']        = df_.dia.astype('category')\n",
    "    df_['fim_semana'] = df_.fim_semana.astype('category')\n",
    "    df_['inicio_mes'] = df_.inicio_mes.astype('category')\n",
    "    df_['feriado']    = df_.feriado.astype('category')\n",
    "    \n",
    "    # separating label and features\n",
    "    X = df_.drop('quantidade', axis = 1)\n",
    "    y = df_['quantidade']\n",
    "\n",
    "    # to plot\n",
    "    x = df_.index\n",
    "    \n",
    "    model = Pipeline([('poly', PolynomialFeatures(degree=3)),\n",
    "                   ('linear', LinearRegression(fit_intercept=True, normalize=True))])\n",
    "    \n",
    "    model.fit(X,y)\n",
    "    \n",
    "    skpred = model.predict(X)\n",
    "    \n",
    "    mse = metrics.mean_squared_error(y,abs(skpred))\n",
    "    rmse = np.sqrt(mse)\n",
    "    rmse_values.append(rmse)"
   ]
  },
  {
   "cell_type": "code",
   "execution_count": 48,
   "metadata": {},
   "outputs": [
    {
     "data": {
      "text/plain": [
       "[4.831465436927927,\n",
       " 34.88171270030761,\n",
       " 4.757066462374458,\n",
       " 24.345136877773328,\n",
       " 9.75516152651589,\n",
       " 10.151586592764886,\n",
       " 16.336799363691863,\n",
       " 4.6892084391598345,\n",
       " 6.336222007172223,\n",
       " 5.915179431810132]"
      ]
     },
     "execution_count": 48,
     "metadata": {},
     "output_type": "execute_result"
    }
   ],
   "source": [
    "rmse_values"
   ]
  }
 ],
 "metadata": {
  "kernelspec": {
   "display_name": "Python 3",
   "language": "python",
   "name": "python3"
  },
  "language_info": {
   "codemirror_mode": {
    "name": "ipython",
    "version": 3
   },
   "file_extension": ".py",
   "mimetype": "text/x-python",
   "name": "python",
   "nbconvert_exporter": "python",
   "pygments_lexer": "ipython3",
   "version": "3.6.9"
  }
 },
 "nbformat": 4,
 "nbformat_minor": 4
}
