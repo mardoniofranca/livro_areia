{
 "cells": [
  {
   "cell_type": "code",
   "execution_count": 1,
   "metadata": {},
   "outputs": [],
   "source": [
    "import pandas as pd\n",
    "import numpy as np\n",
    "\n",
    "from sklearn.preprocessing import PolynomialFeatures\n",
    "from sklearn.linear_model import LinearRegression\n",
    "from sklearn.pipeline import Pipeline\n",
    "from sklearn.ensemble import GradientBoostingRegressor, RandomForestRegressor\n",
    "from statsmodels.tsa.arima_model import ARIMA\n",
    "\n",
    "from sklearn.model_selection import train_test_split\n",
    "from sklearn.metrics import mean_squared_error as mse"
   ]
  },
  {
   "cell_type": "code",
   "execution_count": 2,
   "metadata": {},
   "outputs": [
    {
     "data": {
      "text/html": [
       "<div>\n",
       "<style scoped>\n",
       "    .dataframe tbody tr th:only-of-type {\n",
       "        vertical-align: middle;\n",
       "    }\n",
       "\n",
       "    .dataframe tbody tr th {\n",
       "        vertical-align: top;\n",
       "    }\n",
       "\n",
       "    .dataframe thead th {\n",
       "        text-align: right;\n",
       "    }\n",
       "</style>\n",
       "<table border=\"1\" class=\"dataframe\">\n",
       "  <thead>\n",
       "    <tr style=\"text-align: right;\">\n",
       "      <th></th>\n",
       "      <th>data</th>\n",
       "      <th>valorReal</th>\n",
       "      <th>mes</th>\n",
       "    </tr>\n",
       "  </thead>\n",
       "  <tbody>\n",
       "    <tr>\n",
       "      <th>33</th>\n",
       "      <td>2019-10</td>\n",
       "      <td>3231313.84</td>\n",
       "      <td>10</td>\n",
       "    </tr>\n",
       "    <tr>\n",
       "      <th>34</th>\n",
       "      <td>2019-11</td>\n",
       "      <td>2533667.48</td>\n",
       "      <td>11</td>\n",
       "    </tr>\n",
       "    <tr>\n",
       "      <th>35</th>\n",
       "      <td>2019-12</td>\n",
       "      <td>3546494.10</td>\n",
       "      <td>12</td>\n",
       "    </tr>\n",
       "    <tr>\n",
       "      <th>36</th>\n",
       "      <td>2020-01</td>\n",
       "      <td>2928523.90</td>\n",
       "      <td>1</td>\n",
       "    </tr>\n",
       "    <tr>\n",
       "      <th>37</th>\n",
       "      <td>2020-02</td>\n",
       "      <td>1858077.75</td>\n",
       "      <td>2</td>\n",
       "    </tr>\n",
       "  </tbody>\n",
       "</table>\n",
       "</div>"
      ],
      "text/plain": [
       "       data   valorReal  mes\n",
       "33  2019-10  3231313.84   10\n",
       "34  2019-11  2533667.48   11\n",
       "35  2019-12  3546494.10   12\n",
       "36  2020-01  2928523.90    1\n",
       "37  2020-02  1858077.75    2"
      ]
     },
     "execution_count": 2,
     "metadata": {},
     "output_type": "execute_result"
    }
   ],
   "source": [
    "df = pd.read_csv('../../../data/pred/df_to_pred.csv')\n",
    "df.tail()"
   ]
  },
  {
   "cell_type": "code",
   "execution_count": 3,
   "metadata": {},
   "outputs": [],
   "source": [
    "df.index = df.data\n",
    "df = df.dropna()"
   ]
  },
  {
   "cell_type": "code",
   "execution_count": 4,
   "metadata": {},
   "outputs": [
    {
     "data": {
      "text/html": [
       "<div>\n",
       "<style scoped>\n",
       "    .dataframe tbody tr th:only-of-type {\n",
       "        vertical-align: middle;\n",
       "    }\n",
       "\n",
       "    .dataframe tbody tr th {\n",
       "        vertical-align: top;\n",
       "    }\n",
       "\n",
       "    .dataframe thead th {\n",
       "        text-align: right;\n",
       "    }\n",
       "</style>\n",
       "<table border=\"1\" class=\"dataframe\">\n",
       "  <thead>\n",
       "    <tr style=\"text-align: right;\">\n",
       "      <th></th>\n",
       "      <th>valorReal</th>\n",
       "      <th>mes</th>\n",
       "    </tr>\n",
       "    <tr>\n",
       "      <th>data</th>\n",
       "      <th></th>\n",
       "      <th></th>\n",
       "    </tr>\n",
       "  </thead>\n",
       "  <tbody>\n",
       "    <tr>\n",
       "      <th>2017-01</th>\n",
       "      <td>1904785.30</td>\n",
       "      <td>1</td>\n",
       "    </tr>\n",
       "    <tr>\n",
       "      <th>2017-02</th>\n",
       "      <td>1878276.29</td>\n",
       "      <td>2</td>\n",
       "    </tr>\n",
       "    <tr>\n",
       "      <th>2017-03</th>\n",
       "      <td>1895962.97</td>\n",
       "      <td>3</td>\n",
       "    </tr>\n",
       "    <tr>\n",
       "      <th>2017-04</th>\n",
       "      <td>2103872.48</td>\n",
       "      <td>4</td>\n",
       "    </tr>\n",
       "    <tr>\n",
       "      <th>2017-05</th>\n",
       "      <td>1941807.41</td>\n",
       "      <td>5</td>\n",
       "    </tr>\n",
       "  </tbody>\n",
       "</table>\n",
       "</div>"
      ],
      "text/plain": [
       "          valorReal  mes\n",
       "data                    \n",
       "2017-01  1904785.30    1\n",
       "2017-02  1878276.29    2\n",
       "2017-03  1895962.97    3\n",
       "2017-04  2103872.48    4\n",
       "2017-05  1941807.41    5"
      ]
     },
     "execution_count": 4,
     "metadata": {},
     "output_type": "execute_result"
    }
   ],
   "source": [
    "df_with_features = df.drop(['data'], axis=1)\n",
    "df_with_features.head()"
   ]
  },
  {
   "cell_type": "code",
   "execution_count": 5,
   "metadata": {},
   "outputs": [
    {
     "data": {
      "text/html": [
       "<div>\n",
       "<style scoped>\n",
       "    .dataframe tbody tr th:only-of-type {\n",
       "        vertical-align: middle;\n",
       "    }\n",
       "\n",
       "    .dataframe tbody tr th {\n",
       "        vertical-align: top;\n",
       "    }\n",
       "\n",
       "    .dataframe thead th {\n",
       "        text-align: right;\n",
       "    }\n",
       "</style>\n",
       "<table border=\"1\" class=\"dataframe\">\n",
       "  <thead>\n",
       "    <tr style=\"text-align: right;\">\n",
       "      <th></th>\n",
       "      <th>valorReal</th>\n",
       "      <th>mes</th>\n",
       "    </tr>\n",
       "    <tr>\n",
       "      <th>data</th>\n",
       "      <th></th>\n",
       "      <th></th>\n",
       "    </tr>\n",
       "  </thead>\n",
       "  <tbody>\n",
       "    <tr>\n",
       "      <th>2017-01</th>\n",
       "      <td>1904785.30</td>\n",
       "      <td>1</td>\n",
       "    </tr>\n",
       "    <tr>\n",
       "      <th>2017-02</th>\n",
       "      <td>1878276.29</td>\n",
       "      <td>2</td>\n",
       "    </tr>\n",
       "    <tr>\n",
       "      <th>2017-03</th>\n",
       "      <td>1895962.97</td>\n",
       "      <td>3</td>\n",
       "    </tr>\n",
       "    <tr>\n",
       "      <th>2017-04</th>\n",
       "      <td>2103872.48</td>\n",
       "      <td>4</td>\n",
       "    </tr>\n",
       "    <tr>\n",
       "      <th>2017-05</th>\n",
       "      <td>1941807.41</td>\n",
       "      <td>5</td>\n",
       "    </tr>\n",
       "  </tbody>\n",
       "</table>\n",
       "</div>"
      ],
      "text/plain": [
       "          valorReal  mes\n",
       "data                    \n",
       "2017-01  1904785.30    1\n",
       "2017-02  1878276.29    2\n",
       "2017-03  1895962.97    3\n",
       "2017-04  2103872.48    4\n",
       "2017-05  1941807.41    5"
      ]
     },
     "execution_count": 5,
     "metadata": {},
     "output_type": "execute_result"
    }
   ],
   "source": [
    "df_without_features = df[['valorReal', 'mes']]\n",
    "df_without_features.head()"
   ]
  },
  {
   "cell_type": "code",
   "execution_count": 6,
   "metadata": {},
   "outputs": [
    {
     "data": {
      "image/png": "[encoded data removed]",
      "text/plain": [
       "<Figure size 432x288 with 1 Axes>"
      ]
     },
     "metadata": {
      "needs_background": "light"
     },
     "output_type": "display_data"
    }
   ],
   "source": [
    "from pandas import read_csv\n",
    "from pandas import datetime\n",
    "from matplotlib import pyplot\n",
    "from pandas.plotting import autocorrelation_plot\n",
    " \n",
    "series = df_without_features['valorReal']\n",
    "\n",
    "autocorrelation_plot(series)\n",
    "pyplot.show()"
   ]
  },
  {
   "cell_type": "markdown",
   "metadata": {},
   "source": [
    "### MAPE"
   ]
  },
  {
   "cell_type": "code",
   "execution_count": 7,
   "metadata": {},
   "outputs": [],
   "source": [
    "def mean_absolute_percentage_error(y_true, y_pred): \n",
    "    y_true, y_pred = np.array(y_true), np.array(y_pred)\n",
    "    return np.mean(np.abs((y_true - y_pred) / y_true)) * 100"
   ]
  },
  {
   "cell_type": "markdown",
   "metadata": {},
   "source": [
    "## Models "
   ]
  },
  {
   "cell_type": "code",
   "execution_count": 8,
   "metadata": {},
   "outputs": [],
   "source": [
    "dataframes = {}\n",
    "dataframes['df_with_features']       = df_with_features\n",
    "dataframes['df_without_features']    = df_without_features"
   ]
  },
  {
   "cell_type": "code",
   "execution_count": 9,
   "metadata": {},
   "outputs": [],
   "source": [
    "models = {}\n",
    "models['Linear Regression']     = Pipeline([('poly', PolynomialFeatures(degree=3)),('linear', LinearRegression(fit_intercept=True, normalize=True))])\n",
    "models['GradientBoosting']      = GradientBoostingRegressor(random_state=0)\n",
    "models['RandomForestRegressor'] = RandomForestRegressor(random_state=0, n_estimators=100)"
   ]
  },
  {
   "cell_type": "code",
   "execution_count": 10,
   "metadata": {},
   "outputs": [
    {
     "name": "stdout",
     "output_type": "stream",
     "text": [
      "\n",
      "Dataframe de treino: \n",
      "          mes\n",
      "data        \n",
      "2017-01    1\n",
      "2017-02    2\n",
      "2017-03    3\n",
      "2017-04    4\n",
      "2017-05    5\n",
      "2017-06    6\n",
      "2017-07    7\n",
      "2017-08    8\n",
      "2017-09    9\n",
      "2017-10   10\n",
      "2017-11   11\n",
      "2017-12   12\n",
      "2018-01    1\n",
      "2018-02    2\n",
      "2018-03    3\n",
      "2018-04    4\n",
      "2018-05    5\n",
      "2018-06    6\n",
      "2018-07    7\n",
      "2018-08    8\n",
      "2018-09    9\n",
      "2018-10   10\n",
      "2018-11   11\n",
      "2018-12   12\n",
      "2019-01    1\n",
      "2019-02    2\n",
      "2019-03    3\n",
      "2019-04    4\n",
      "2019-05    5\n",
      "2019-06    6\n",
      "2019-07    7\n",
      "2019-08    8\n",
      "2019-09    9\n",
      "2019-10   10\n",
      "2019-11   11\n",
      "2019-12   12\n",
      "Datafram ede teste: \n",
      "          mes\n",
      "data        \n",
      "2020-01    1\n",
      "2020-02    2 \n",
      "\n",
      "Valores reais:  [2928523.9  1858077.75]\n",
      "Valor Predito do modelo  Linear Regression : [2395786.92313797 2591573.37499278]\n",
      "Valor Predito do modelo  GradientBoosting : [2503933.24677762 2460723.64892874]\n",
      "Valor Predito do modelo  RandomForestRegressor : [2477301.04786691 2407283.936575  ]\n",
      "\n",
      "Dataframe de treino: \n",
      "          mes\n",
      "data        \n",
      "2017-01    1\n",
      "2017-02    2\n",
      "2017-03    3\n",
      "2017-04    4\n",
      "2017-05    5\n",
      "2017-06    6\n",
      "2017-07    7\n",
      "2017-08    8\n",
      "2017-09    9\n",
      "2017-10   10\n",
      "2017-11   11\n",
      "2017-12   12\n",
      "2018-01    1\n",
      "2018-02    2\n",
      "2018-03    3\n",
      "2018-04    4\n",
      "2018-05    5\n",
      "2018-06    6\n",
      "2018-07    7\n",
      "2018-08    8\n",
      "2018-09    9\n",
      "2018-10   10\n",
      "2018-11   11\n",
      "2018-12   12\n",
      "2019-01    1\n",
      "2019-02    2\n",
      "2019-03    3\n",
      "2019-04    4\n",
      "2019-05    5\n",
      "2019-06    6\n",
      "2019-07    7\n",
      "2019-08    8\n",
      "2019-09    9\n",
      "2019-10   10\n",
      "2019-11   11\n",
      "2019-12   12\n",
      "Datafram ede teste: \n",
      "          mes\n",
      "data        \n",
      "2020-01    1\n",
      "2020-02    2 \n",
      "\n",
      "Valores reais:  [2928523.9  1858077.75]\n",
      "Valor Predito do modelo  Linear Regression : [2395786.92313797 2591573.37499278]\n",
      "Valor Predito do modelo  GradientBoosting : [2503933.24677762 2460723.64892874]\n",
      "Valor Predito do modelo  RandomForestRegressor : [2477301.04786691 2407283.936575  ]\n"
     ]
    }
   ],
   "source": [
    "rmse_result = []\n",
    "\n",
    "for df_name, df in dataframes.items():\n",
    "     \n",
    "    X = df.drop('valorReal', axis = 1)\n",
    "    y = df['valorReal'] \n",
    "    \n",
    "    X_train, X_test, y_train, y_test = train_test_split(X, y, \n",
    "                                                        test_size=0.05,\n",
    "                                                        random_state=42, \n",
    "                                                        shuffle=False)\n",
    "    print(\"\\nDataframe de treino: \\n\", X_train)\n",
    "    print(\"Datafram ede teste: \\n\", X_test,'\\n')\n",
    "    print('Valores reais: ',y_test.values)\n",
    "    for model_name, model in models.items():\n",
    "        \n",
    "        model.fit(X_train, y_train)\n",
    "        y_pred = model.predict(X_test)\n",
    "        print('Valor Predito do modelo ', model_name,':', y_pred)\n",
    "        rmse = np.sqrt(mse(y_test, y_pred))\n",
    "        mape = mean_absolute_percentage_error(y_test, y_pred)\n",
    "        rmse_result.append((df_name, model_name, rmse, mape))"
   ]
  },
  {
   "cell_type": "code",
   "execution_count": 11,
   "metadata": {},
   "outputs": [
    {
     "data": {
      "text/html": [
       "<div>\n",
       "<style scoped>\n",
       "    .dataframe tbody tr th:only-of-type {\n",
       "        vertical-align: middle;\n",
       "    }\n",
       "\n",
       "    .dataframe tbody tr th {\n",
       "        vertical-align: top;\n",
       "    }\n",
       "\n",
       "    .dataframe thead th {\n",
       "        text-align: right;\n",
       "    }\n",
       "</style>\n",
       "<table border=\"1\" class=\"dataframe\">\n",
       "  <thead>\n",
       "    <tr style=\"text-align: right;\">\n",
       "      <th></th>\n",
       "      <th>DataSet</th>\n",
       "      <th>Modelo</th>\n",
       "      <th>RMSE</th>\n",
       "      <th>MAPE</th>\n",
       "    </tr>\n",
       "  </thead>\n",
       "  <tbody>\n",
       "    <tr>\n",
       "      <th>5</th>\n",
       "      <td>df_without_features</td>\n",
       "      <td>RandomForestRegressor</td>\n",
       "      <td>502607.947440</td>\n",
       "      <td>22.482810</td>\n",
       "    </tr>\n",
       "    <tr>\n",
       "      <th>4</th>\n",
       "      <td>df_without_features</td>\n",
       "      <td>GradientBoosting</td>\n",
       "      <td>521276.942853</td>\n",
       "      <td>23.466145</td>\n",
       "    </tr>\n",
       "    <tr>\n",
       "      <th>3</th>\n",
       "      <td>df_without_features</td>\n",
       "      <td>Linear Regression</td>\n",
       "      <td>641024.382687</td>\n",
       "      <td>28.833680</td>\n",
       "    </tr>\n",
       "    <tr>\n",
       "      <th>2</th>\n",
       "      <td>df_with_features</td>\n",
       "      <td>RandomForestRegressor</td>\n",
       "      <td>502607.947440</td>\n",
       "      <td>22.482810</td>\n",
       "    </tr>\n",
       "    <tr>\n",
       "      <th>1</th>\n",
       "      <td>df_with_features</td>\n",
       "      <td>GradientBoosting</td>\n",
       "      <td>521276.942853</td>\n",
       "      <td>23.466145</td>\n",
       "    </tr>\n",
       "    <tr>\n",
       "      <th>0</th>\n",
       "      <td>df_with_features</td>\n",
       "      <td>Linear Regression</td>\n",
       "      <td>641024.382687</td>\n",
       "      <td>28.833680</td>\n",
       "    </tr>\n",
       "  </tbody>\n",
       "</table>\n",
       "</div>"
      ],
      "text/plain": [
       "               DataSet                 Modelo           RMSE       MAPE\n",
       "5  df_without_features  RandomForestRegressor  502607.947440  22.482810\n",
       "4  df_without_features       GradientBoosting  521276.942853  23.466145\n",
       "3  df_without_features      Linear Regression  641024.382687  28.833680\n",
       "2     df_with_features  RandomForestRegressor  502607.947440  22.482810\n",
       "1     df_with_features       GradientBoosting  521276.942853  23.466145\n",
       "0     df_with_features      Linear Regression  641024.382687  28.833680"
      ]
     },
     "execution_count": 11,
     "metadata": {},
     "output_type": "execute_result"
    }
   ],
   "source": [
    "pd.DataFrame(rmse_result, \n",
    "             columns=['DataSet','Modelo','RMSE', 'MAPE']).sort_values(by=['DataSet', 'RMSE'], \n",
    "             ascending=[False, True])"
   ]
  },
  {
   "cell_type": "markdown",
   "metadata": {},
   "source": [
    "### Visualization"
   ]
  },
  {
   "cell_type": "code",
   "execution_count": 12,
   "metadata": {},
   "outputs": [],
   "source": [
    "import matplotlib.pyplot as plt\n",
    "\n",
    "from sklearn import datasets\n",
    "from sklearn.ensemble import GradientBoostingRegressor\n",
    "from sklearn.ensemble import RandomForestRegressor\n",
    "from sklearn.linear_model import LinearRegression"
   ]
  },
  {
   "cell_type": "code",
   "execution_count": 13,
   "metadata": {},
   "outputs": [],
   "source": [
    "X = df.drop('valorReal', axis = 1)\n",
    "y = df['valorReal'] \n",
    "\n",
    "X_train, X_test, y_train, y_test = train_test_split(X, y, test_size=0.3, random_state=42, shuffle=False)\n",
    "\n",
    "x = X_test.index"
   ]
  },
  {
   "cell_type": "code",
   "execution_count": 14,
   "metadata": {},
   "outputs": [],
   "source": [
    "# Training classifiers\n",
    "reg1 = GradientBoostingRegressor(random_state=0)\n",
    "reg2 = RandomForestRegressor(random_state=0, n_estimators=100)\n",
    "reg3 = Pipeline([('poly', PolynomialFeatures(degree=3)),('linear', LinearRegression(fit_intercept=True, normalize=True))])"
   ]
  },
  {
   "cell_type": "code",
   "execution_count": 15,
   "metadata": {},
   "outputs": [
    {
     "data": {
      "text/plain": [
       "Pipeline(memory=None,\n",
       "         steps=[('poly',\n",
       "                 PolynomialFeatures(degree=3, include_bias=True,\n",
       "                                    interaction_only=False, order='C')),\n",
       "                ('linear',\n",
       "                 LinearRegression(copy_X=True, fit_intercept=True, n_jobs=None,\n",
       "                                  normalize=True))],\n",
       "         verbose=False)"
      ]
     },
     "execution_count": 15,
     "metadata": {},
     "output_type": "execute_result"
    }
   ],
   "source": [
    "reg1.fit(X_train, y_train)\n",
    "reg2.fit(X_train, y_train)\n",
    "reg3.fit(X_train, y_train)"
   ]
  },
  {
   "cell_type": "code",
   "execution_count": 16,
   "metadata": {},
   "outputs": [],
   "source": [
    "plt.rcParams['figure.figsize'] = [12.0 , 8.0]\n",
    "plt.rcParams['figure.dpi'] = 80\n",
    "plt.rcParams['savefig.dpi'] = 100\n",
    "\n",
    "plt.rcParams['font.size'] = 12\n",
    "plt.rcParams['legend.fontsize'] = 'large'\n",
    "plt.rcParams['figure.titlesize'] = 'medium'\n"
   ]
  },
  {
   "cell_type": "code",
   "execution_count": 17,
   "metadata": {},
   "outputs": [
    {
     "data": {
      "image/png": "[encoded data removed]",
      "text/plain": [
       "<Figure size 960x640 with 1 Axes>"
      ]
     },
     "metadata": {
      "needs_background": "light"
     },
     "output_type": "display_data"
    }
   ],
   "source": [
    "plt.plot(x,y_test, color='red', label='True value')\n",
    "plt.plot(x,reg1.predict(X_test), color='green', label='GradientBoosting model')\n",
    "plt.plot(x,reg2.predict(X_test), color='blue', label='Random Forest model')\n",
    "plt.plot(x,reg3.predict(X_test), color='orange', label='Linear regression with polynomyal features')\n",
    "\n",
    "plt.ylabel('Quantidade')\n",
    "plt.xlabel('50 últimas Amostras')\n",
    "plt.legend(loc=\"best\")\n",
    "plt.title('Comparação individual dos modelos')\n",
    "plt.show()"
   ]
  },
  {
   "cell_type": "markdown",
   "metadata": {},
   "source": [
    "### Model SARIMA and ARIMA "
   ]
  }
 ],
 "metadata": {
  "kernelspec": {
   "display_name": "Python 3",
   "language": "python",
   "name": "python3"
  },
  "language_info": {
   "codemirror_mode": {
    "name": "ipython",
    "version": 3
   },
   "file_extension": ".py",
   "mimetype": "text/x-python",
   "name": "python",
   "nbconvert_exporter": "python",
   "pygments_lexer": "ipython3",
   "version": "3.6.9"
  }
 },
 "nbformat": 4,
 "nbformat_minor": 4
}
