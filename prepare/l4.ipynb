{
 "cells": [
  {
   "cell_type": "markdown",
   "metadata": {},
   "source": [
    "# Lesson 4 - Correlation | Feature"
   ]
  },
  {
   "cell_type": "code",
   "execution_count": 55,
   "metadata": {},
   "outputs": [],
   "source": [
    "import pandas as pd"
   ]
  },
  {
   "cell_type": "code",
   "execution_count": 56,
   "metadata": {},
   "outputs": [],
   "source": [
    "import matplotlib.pyplot as plt\n",
    "import seaborn as sns, numpy as np"
   ]
  },
  {
   "cell_type": "code",
   "execution_count": 57,
   "metadata": {},
   "outputs": [],
   "source": [
    "df = pd.read_csv(\"../data/enem.csv\")"
   ]
  },
  {
   "cell_type": "code",
   "execution_count": 4,
   "metadata": {},
   "outputs": [
    {
     "data": {
      "text/plain": [
       "2000"
      ]
     },
     "execution_count": 4,
     "metadata": {},
     "output_type": "execute_result"
    }
   ],
   "source": [
    "len(df)"
   ]
  },
  {
   "cell_type": "code",
   "execution_count": 5,
   "metadata": {},
   "outputs": [
    {
     "data": {
      "text/plain": [
       "array(['NU_INSCRICAO', 'NU_ANO', 'CO_MUNICIPIO_RESIDENCIA',\n",
       "       'NO_MUNICIPIO_RESIDENCIA', 'CO_UF_RESIDENCIA', 'SG_UF_RESIDENCIA',\n",
       "       'NU_IDADE', 'TP_SEXO', 'TP_ESTADO_CIVIL', 'TP_COR_RACA',\n",
       "       'TP_NACIONALIDADE', 'CO_MUNICIPIO_NASCIMENTO',\n",
       "       'NO_MUNICIPIO_NASCIMENTO', 'CO_UF_NASCIMENTO', 'SG_UF_NASCIMENTO',\n",
       "       'TP_ST_CONCLUSAO', 'TP_ANO_CONCLUIU', 'TP_ESCOLA', 'TP_ENSINO',\n",
       "       'IN_TREINEIRO', 'CO_ESCOLA', 'CO_MUNICIPIO_ESC',\n",
       "       'NO_MUNICIPIO_ESC', 'CO_UF_ESC', 'SG_UF_ESC',\n",
       "       'TP_DEPENDENCIA_ADM_ESC', 'TP_LOCALIZACAO_ESC', 'TP_SIT_FUNC_ESC',\n",
       "       'IN_BAIXA_VISAO', 'IN_CEGUEIRA', 'IN_SURDEZ',\n",
       "       'IN_DEFICIENCIA_AUDITIVA', 'IN_SURDO_CEGUEIRA',\n",
       "       'IN_DEFICIENCIA_FISICA', 'IN_DEFICIENCIA_MENTAL',\n",
       "       'IN_DEFICIT_ATENCAO', 'IN_DISLEXIA', 'IN_DISCALCULIA',\n",
       "       'IN_AUTISMO', 'IN_VISAO_MONOCULAR', 'IN_OUTRA_DEF', 'IN_GESTANTE',\n",
       "       'IN_LACTANTE', 'IN_IDOSO', 'IN_ESTUDA_CLASSE_HOSPITALAR',\n",
       "       'IN_SEM_RECURSO', 'IN_BRAILLE', 'IN_AMPLIADA_24', 'IN_AMPLIADA_18',\n",
       "       'IN_LEDOR', 'IN_ACESSO', 'IN_TRANSCRICAO', 'IN_LIBRAS',\n",
       "       'IN_TEMPO_ADICIONAL', 'IN_LEITURA_LABIAL', 'IN_MESA_CADEIRA_RODAS',\n",
       "       'IN_MESA_CADEIRA_SEPARADA', 'IN_APOIO_PERNA', 'IN_GUIA_INTERPRETE',\n",
       "       'IN_COMPUTADOR', 'IN_CADEIRA_ESPECIAL', 'IN_CADEIRA_CANHOTO',\n",
       "       'IN_CADEIRA_ACOLCHOADA', 'IN_PROVA_DEITADO', 'IN_MOBILIARIO_OBESO',\n",
       "       'IN_LAMINA_OVERLAY', 'IN_PROTETOR_AURICULAR', 'IN_MEDIDOR_GLICOSE',\n",
       "       'IN_MAQUINA_BRAILE', 'IN_SOROBAN', 'IN_MARCA_PASSO', 'IN_SONDA',\n",
       "       'IN_MEDICAMENTOS', 'IN_SALA_INDIVIDUAL', 'IN_SALA_ESPECIAL',\n",
       "       'IN_SALA_ACOMPANHANTE', 'IN_MOBILIARIO_ESPECIFICO',\n",
       "       'IN_MATERIAL_ESPECIFICO', 'IN_NOME_SOCIAL', 'CO_MUNICIPIO_PROVA',\n",
       "       'NO_MUNICIPIO_PROVA', 'CO_UF_PROVA', 'SG_UF_PROVA',\n",
       "       'TP_PRESENCA_CN', 'TP_PRESENCA_CH', 'TP_PRESENCA_LC',\n",
       "       'TP_PRESENCA_MT', 'CO_PROVA_CN', 'CO_PROVA_CH', 'CO_PROVA_LC',\n",
       "       'CO_PROVA_MT', 'NU_NOTA_CN', 'NU_NOTA_CH', 'NU_NOTA_LC',\n",
       "       'NU_NOTA_MT', 'TX_RESPOSTAS_CN', 'TX_RESPOSTAS_CH',\n",
       "       'TX_RESPOSTAS_LC', 'TX_RESPOSTAS_MT', 'TP_LINGUA',\n",
       "       'TX_GABARITO_CN', 'TX_GABARITO_CH', 'TX_GABARITO_LC',\n",
       "       'TX_GABARITO_MT', 'TP_STATUS_REDACAO', 'NU_NOTA_COMP1',\n",
       "       'NU_NOTA_COMP2', 'NU_NOTA_COMP3', 'NU_NOTA_COMP4', 'NU_NOTA_COMP5',\n",
       "       'NU_NOTA_REDACAO', 'Q001', 'Q002', 'Q003', 'Q004', 'Q005', 'Q006',\n",
       "       'Q007', 'Q008', 'Q009', 'Q010', 'Q011', 'Q012', 'Q013', 'Q014',\n",
       "       'Q015', 'Q016', 'Q017', 'Q018', 'Q019', 'Q020', 'Q021', 'Q022',\n",
       "       'Q023', 'Q024', 'Q025'], dtype=object)"
      ]
     },
     "execution_count": 5,
     "metadata": {},
     "output_type": "execute_result"
    }
   ],
   "source": [
    "df.columns.values"
   ]
  },
  {
   "cell_type": "code",
   "execution_count": null,
   "metadata": {},
   "outputs": [],
   "source": [
    "df[\"IN_TREINEIRO\"]"
   ]
  },
  {
   "cell_type": "code",
   "execution_count": 7,
   "metadata": {},
   "outputs": [
    {
     "data": {
      "text/plain": [
       "-0.2610257150405357"
      ]
     },
     "execution_count": 7,
     "metadata": {},
     "output_type": "execute_result"
    }
   ],
   "source": [
    "df['NU_IDADE'].corr(df['IN_TREINEIRO'])"
   ]
  },
  {
   "cell_type": "code",
   "execution_count": 8,
   "metadata": {},
   "outputs": [
    {
     "data": {
      "text/plain": [
       "0.7216475704624478"
      ]
     },
     "execution_count": 8,
     "metadata": {},
     "output_type": "execute_result"
    }
   ],
   "source": [
    "df['TP_ST_CONCLUSAO'].corr(df['IN_TREINEIRO'])"
   ]
  },
  {
   "cell_type": "code",
   "execution_count": 10,
   "metadata": {},
   "outputs": [],
   "source": [
    "def st(valor):\n",
    "    if (valor == 3):\n",
    "        return 1\n",
    "    else:\n",
    "        return 0"
   ]
  },
  {
   "cell_type": "code",
   "execution_count": 11,
   "metadata": {},
   "outputs": [],
   "source": [
    "df['ST_CONCLUSAO'] =  df['TP_ST_CONCLUSAO'].apply(lambda x: st((x)))"
   ]
  },
  {
   "cell_type": "code",
   "execution_count": 12,
   "metadata": {},
   "outputs": [
    {
     "data": {
      "text/plain": [
       "<AxesSubplot:>"
      ]
     },
     "execution_count": 12,
     "metadata": {},
     "output_type": "execute_result"
    },
    {
     "data": {
      "image/png": "[encoded data removed]",
      "text/plain": [
       "<Figure size 1152x576 with 1 Axes>"
      ]
     },
     "metadata": {
      "needs_background": "light"
     },
     "output_type": "display_data"
    }
   ],
   "source": [
    "df[\"ST_CONCLUSAO\"].value_counts(normalize = True).plot.bar(figsize=(16,8))"
   ]
  },
  {
   "cell_type": "code",
   "execution_count": 14,
   "metadata": {},
   "outputs": [
    {
     "data": {
      "text/plain": [
       "1.0"
      ]
     },
     "execution_count": 14,
     "metadata": {},
     "output_type": "execute_result"
    }
   ],
   "source": [
    "df['ST_CONCLUSAO'].corr(df['IN_TREINEIRO'])"
   ]
  },
  {
   "cell_type": "code",
   "execution_count": 38,
   "metadata": {},
   "outputs": [],
   "source": [
    "cols = ['NU_IDADE', 'TP_ESTADO_CIVIL', 'TP_ST_CONCLUSAO','TP_ANO_CONCLUIU','TP_ESCOLA',\n",
    "        'NU_NOTA_CH','NU_NOTA_CN', 'NU_NOTA_LC','NU_NOTA_MT','NU_NOTA_REDACAO','ST_CONCLUSAO','IN_TREINEIRO']"
   ]
  },
  {
   "cell_type": "code",
   "execution_count": 39,
   "metadata": {},
   "outputs": [],
   "source": [
    "df_2 = df[cols]"
   ]
  },
  {
   "cell_type": "code",
   "execution_count": 40,
   "metadata": {},
   "outputs": [
    {
     "data": {
      "text/html": [
       "<div>\n",
       "<style scoped>\n",
       "    .dataframe tbody tr th:only-of-type {\n",
       "        vertical-align: middle;\n",
       "    }\n",
       "\n",
       "    .dataframe tbody tr th {\n",
       "        vertical-align: top;\n",
       "    }\n",
       "\n",
       "    .dataframe thead th {\n",
       "        text-align: right;\n",
       "    }\n",
       "</style>\n",
       "<table border=\"1\" class=\"dataframe\">\n",
       "  <thead>\n",
       "    <tr style=\"text-align: right;\">\n",
       "      <th></th>\n",
       "      <th>NU_IDADE</th>\n",
       "      <th>TP_ESTADO_CIVIL</th>\n",
       "      <th>TP_ST_CONCLUSAO</th>\n",
       "      <th>TP_ANO_CONCLUIU</th>\n",
       "      <th>TP_ESCOLA</th>\n",
       "      <th>NU_NOTA_CH</th>\n",
       "      <th>NU_NOTA_CN</th>\n",
       "      <th>NU_NOTA_LC</th>\n",
       "      <th>NU_NOTA_MT</th>\n",
       "      <th>NU_NOTA_REDACAO</th>\n",
       "      <th>ST_CONCLUSAO</th>\n",
       "      <th>IN_TREINEIRO</th>\n",
       "    </tr>\n",
       "  </thead>\n",
       "  <tbody>\n",
       "    <tr>\n",
       "      <th>0</th>\n",
       "      <td>17</td>\n",
       "      <td>1</td>\n",
       "      <td>3</td>\n",
       "      <td>0</td>\n",
       "      <td>1</td>\n",
       "      <td>516.7</td>\n",
       "      <td>518.1</td>\n",
       "      <td>564.3</td>\n",
       "      <td>520.9</td>\n",
       "      <td>580.0</td>\n",
       "      <td>1</td>\n",
       "      <td>1</td>\n",
       "    </tr>\n",
       "    <tr>\n",
       "      <th>1</th>\n",
       "      <td>22</td>\n",
       "      <td>1</td>\n",
       "      <td>1</td>\n",
       "      <td>5</td>\n",
       "      <td>1</td>\n",
       "      <td>507.8</td>\n",
       "      <td>NaN</td>\n",
       "      <td>556.2</td>\n",
       "      <td>NaN</td>\n",
       "      <td>540.0</td>\n",
       "      <td>0</td>\n",
       "      <td>0</td>\n",
       "    </tr>\n",
       "    <tr>\n",
       "      <th>2</th>\n",
       "      <td>25</td>\n",
       "      <td>1</td>\n",
       "      <td>1</td>\n",
       "      <td>7</td>\n",
       "      <td>1</td>\n",
       "      <td>379.1</td>\n",
       "      <td>398.3</td>\n",
       "      <td>459.9</td>\n",
       "      <td>421.9</td>\n",
       "      <td>400.0</td>\n",
       "      <td>0</td>\n",
       "      <td>0</td>\n",
       "    </tr>\n",
       "    <tr>\n",
       "      <th>3</th>\n",
       "      <td>25</td>\n",
       "      <td>1</td>\n",
       "      <td>2</td>\n",
       "      <td>0</td>\n",
       "      <td>2</td>\n",
       "      <td>476.7</td>\n",
       "      <td>426.6</td>\n",
       "      <td>508.0</td>\n",
       "      <td>410.0</td>\n",
       "      <td>480.0</td>\n",
       "      <td>0</td>\n",
       "      <td>0</td>\n",
       "    </tr>\n",
       "    <tr>\n",
       "      <th>4</th>\n",
       "      <td>64</td>\n",
       "      <td>0</td>\n",
       "      <td>2</td>\n",
       "      <td>0</td>\n",
       "      <td>2</td>\n",
       "      <td>NaN</td>\n",
       "      <td>NaN</td>\n",
       "      <td>NaN</td>\n",
       "      <td>NaN</td>\n",
       "      <td>NaN</td>\n",
       "      <td>0</td>\n",
       "      <td>0</td>\n",
       "    </tr>\n",
       "  </tbody>\n",
       "</table>\n",
       "</div>"
      ],
      "text/plain": [
       "   NU_IDADE  TP_ESTADO_CIVIL  TP_ST_CONCLUSAO  TP_ANO_CONCLUIU  TP_ESCOLA  \\\n",
       "0        17                1                3                0          1   \n",
       "1        22                1                1                5          1   \n",
       "2        25                1                1                7          1   \n",
       "3        25                1                2                0          2   \n",
       "4        64                0                2                0          2   \n",
       "\n",
       "   NU_NOTA_CH  NU_NOTA_CN  NU_NOTA_LC  NU_NOTA_MT  NU_NOTA_REDACAO  \\\n",
       "0       516.7       518.1       564.3       520.9            580.0   \n",
       "1       507.8         NaN       556.2         NaN            540.0   \n",
       "2       379.1       398.3       459.9       421.9            400.0   \n",
       "3       476.7       426.6       508.0       410.0            480.0   \n",
       "4         NaN         NaN         NaN         NaN              NaN   \n",
       "\n",
       "   ST_CONCLUSAO  IN_TREINEIRO  \n",
       "0             1             1  \n",
       "1             0             0  \n",
       "2             0             0  \n",
       "3             0             0  \n",
       "4             0             0  "
      ]
     },
     "execution_count": 40,
     "metadata": {},
     "output_type": "execute_result"
    }
   ],
   "source": [
    "df_2.head()"
   ]
  },
  {
   "cell_type": "code",
   "execution_count": 41,
   "metadata": {},
   "outputs": [],
   "source": [
    "df_2 = df_2.dropna()"
   ]
  },
  {
   "cell_type": "code",
   "execution_count": 42,
   "metadata": {},
   "outputs": [
    {
     "data": {
      "text/html": [
       "<div>\n",
       "<style scoped>\n",
       "    .dataframe tbody tr th:only-of-type {\n",
       "        vertical-align: middle;\n",
       "    }\n",
       "\n",
       "    .dataframe tbody tr th {\n",
       "        vertical-align: top;\n",
       "    }\n",
       "\n",
       "    .dataframe thead th {\n",
       "        text-align: right;\n",
       "    }\n",
       "</style>\n",
       "<table border=\"1\" class=\"dataframe\">\n",
       "  <thead>\n",
       "    <tr style=\"text-align: right;\">\n",
       "      <th></th>\n",
       "      <th>NU_IDADE</th>\n",
       "      <th>TP_ESTADO_CIVIL</th>\n",
       "      <th>TP_ST_CONCLUSAO</th>\n",
       "      <th>TP_ANO_CONCLUIU</th>\n",
       "      <th>TP_ESCOLA</th>\n",
       "      <th>NU_NOTA_CH</th>\n",
       "      <th>NU_NOTA_CN</th>\n",
       "      <th>NU_NOTA_LC</th>\n",
       "      <th>NU_NOTA_MT</th>\n",
       "      <th>NU_NOTA_REDACAO</th>\n",
       "      <th>ST_CONCLUSAO</th>\n",
       "      <th>IN_TREINEIRO</th>\n",
       "    </tr>\n",
       "  </thead>\n",
       "  <tbody>\n",
       "    <tr>\n",
       "      <th>0</th>\n",
       "      <td>17</td>\n",
       "      <td>1</td>\n",
       "      <td>3</td>\n",
       "      <td>0</td>\n",
       "      <td>1</td>\n",
       "      <td>516.7</td>\n",
       "      <td>518.1</td>\n",
       "      <td>564.3</td>\n",
       "      <td>520.9</td>\n",
       "      <td>580.0</td>\n",
       "      <td>1</td>\n",
       "      <td>1</td>\n",
       "    </tr>\n",
       "    <tr>\n",
       "      <th>2</th>\n",
       "      <td>25</td>\n",
       "      <td>1</td>\n",
       "      <td>1</td>\n",
       "      <td>7</td>\n",
       "      <td>1</td>\n",
       "      <td>379.1</td>\n",
       "      <td>398.3</td>\n",
       "      <td>459.9</td>\n",
       "      <td>421.9</td>\n",
       "      <td>400.0</td>\n",
       "      <td>0</td>\n",
       "      <td>0</td>\n",
       "    </tr>\n",
       "    <tr>\n",
       "      <th>3</th>\n",
       "      <td>25</td>\n",
       "      <td>1</td>\n",
       "      <td>2</td>\n",
       "      <td>0</td>\n",
       "      <td>2</td>\n",
       "      <td>476.7</td>\n",
       "      <td>426.6</td>\n",
       "      <td>508.0</td>\n",
       "      <td>410.0</td>\n",
       "      <td>480.0</td>\n",
       "      <td>0</td>\n",
       "      <td>0</td>\n",
       "    </tr>\n",
       "    <tr>\n",
       "      <th>6</th>\n",
       "      <td>18</td>\n",
       "      <td>1</td>\n",
       "      <td>2</td>\n",
       "      <td>0</td>\n",
       "      <td>3</td>\n",
       "      <td>451.8</td>\n",
       "      <td>369.2</td>\n",
       "      <td>506.1</td>\n",
       "      <td>538.3</td>\n",
       "      <td>820.0</td>\n",
       "      <td>0</td>\n",
       "      <td>0</td>\n",
       "    </tr>\n",
       "    <tr>\n",
       "      <th>7</th>\n",
       "      <td>16</td>\n",
       "      <td>1</td>\n",
       "      <td>3</td>\n",
       "      <td>0</td>\n",
       "      <td>1</td>\n",
       "      <td>609.0</td>\n",
       "      <td>576.5</td>\n",
       "      <td>609.2</td>\n",
       "      <td>766.6</td>\n",
       "      <td>720.0</td>\n",
       "      <td>1</td>\n",
       "      <td>1</td>\n",
       "    </tr>\n",
       "  </tbody>\n",
       "</table>\n",
       "</div>"
      ],
      "text/plain": [
       "   NU_IDADE  TP_ESTADO_CIVIL  TP_ST_CONCLUSAO  TP_ANO_CONCLUIU  TP_ESCOLA  \\\n",
       "0        17                1                3                0          1   \n",
       "2        25                1                1                7          1   \n",
       "3        25                1                2                0          2   \n",
       "6        18                1                2                0          3   \n",
       "7        16                1                3                0          1   \n",
       "\n",
       "   NU_NOTA_CH  NU_NOTA_CN  NU_NOTA_LC  NU_NOTA_MT  NU_NOTA_REDACAO  \\\n",
       "0       516.7       518.1       564.3       520.9            580.0   \n",
       "2       379.1       398.3       459.9       421.9            400.0   \n",
       "3       476.7       426.6       508.0       410.0            480.0   \n",
       "6       451.8       369.2       506.1       538.3            820.0   \n",
       "7       609.0       576.5       609.2       766.6            720.0   \n",
       "\n",
       "   ST_CONCLUSAO  IN_TREINEIRO  \n",
       "0             1             1  \n",
       "2             0             0  \n",
       "3             0             0  \n",
       "6             0             0  \n",
       "7             1             1  "
      ]
     },
     "execution_count": 42,
     "metadata": {},
     "output_type": "execute_result"
    }
   ],
   "source": [
    "df_2.head()"
   ]
  },
  {
   "cell_type": "code",
   "execution_count": 48,
   "metadata": {},
   "outputs": [],
   "source": [
    "corr = df_2.corr()"
   ]
  },
  {
   "cell_type": "code",
   "execution_count": 23,
   "metadata": {},
   "outputs": [
    {
     "data": {
      "text/html": [
       "<div>\n",
       "<style scoped>\n",
       "    .dataframe tbody tr th:only-of-type {\n",
       "        vertical-align: middle;\n",
       "    }\n",
       "\n",
       "    .dataframe tbody tr th {\n",
       "        vertical-align: top;\n",
       "    }\n",
       "\n",
       "    .dataframe thead th {\n",
       "        text-align: right;\n",
       "    }\n",
       "</style>\n",
       "<table border=\"1\" class=\"dataframe\">\n",
       "  <thead>\n",
       "    <tr style=\"text-align: right;\">\n",
       "      <th></th>\n",
       "      <th>NU_IDADE</th>\n",
       "      <th>TP_ESTADO_CIVIL</th>\n",
       "      <th>TP_ST_CONCLUSAO</th>\n",
       "      <th>TP_ANO_CONCLUIU</th>\n",
       "      <th>TP_ESCOLA</th>\n",
       "      <th>NU_NOTA_CH</th>\n",
       "      <th>NU_NOTA_LC</th>\n",
       "      <th>NU_NOTA_MT</th>\n",
       "      <th>NU_NOTA_REDACAO</th>\n",
       "      <th>ST_CONCLUSAO</th>\n",
       "      <th>IN_TREINEIRO</th>\n",
       "    </tr>\n",
       "  </thead>\n",
       "  <tbody>\n",
       "    <tr>\n",
       "      <th>NU_IDADE</th>\n",
       "      <td>1.000000</td>\n",
       "      <td>0.341019</td>\n",
       "      <td>-0.438196</td>\n",
       "      <td>0.759855</td>\n",
       "      <td>-0.298808</td>\n",
       "      <td>-0.025482</td>\n",
       "      <td>-0.090521</td>\n",
       "      <td>-0.147522</td>\n",
       "      <td>-0.230726</td>\n",
       "      <td>-0.251189</td>\n",
       "      <td>-0.251189</td>\n",
       "    </tr>\n",
       "    <tr>\n",
       "      <th>TP_ESTADO_CIVIL</th>\n",
       "      <td>0.341019</td>\n",
       "      <td>1.000000</td>\n",
       "      <td>-0.114079</td>\n",
       "      <td>0.287811</td>\n",
       "      <td>-0.117727</td>\n",
       "      <td>0.032822</td>\n",
       "      <td>0.010626</td>\n",
       "      <td>-0.017951</td>\n",
       "      <td>-0.037053</td>\n",
       "      <td>-0.045798</td>\n",
       "      <td>-0.045798</td>\n",
       "    </tr>\n",
       "    <tr>\n",
       "      <th>TP_ST_CONCLUSAO</th>\n",
       "      <td>-0.438196</td>\n",
       "      <td>-0.114079</td>\n",
       "      <td>1.000000</td>\n",
       "      <td>-0.564240</td>\n",
       "      <td>0.352303</td>\n",
       "      <td>-0.047493</td>\n",
       "      <td>-0.030388</td>\n",
       "      <td>0.025688</td>\n",
       "      <td>0.045574</td>\n",
       "      <td>0.726079</td>\n",
       "      <td>0.726079</td>\n",
       "    </tr>\n",
       "    <tr>\n",
       "      <th>TP_ANO_CONCLUIU</th>\n",
       "      <td>0.759855</td>\n",
       "      <td>0.287811</td>\n",
       "      <td>-0.564240</td>\n",
       "      <td>1.000000</td>\n",
       "      <td>-0.444251</td>\n",
       "      <td>0.083161</td>\n",
       "      <td>0.040619</td>\n",
       "      <td>-0.033206</td>\n",
       "      <td>-0.117215</td>\n",
       "      <td>-0.242413</td>\n",
       "      <td>-0.242413</td>\n",
       "    </tr>\n",
       "    <tr>\n",
       "      <th>TP_ESCOLA</th>\n",
       "      <td>-0.298808</td>\n",
       "      <td>-0.117727</td>\n",
       "      <td>0.352303</td>\n",
       "      <td>-0.444251</td>\n",
       "      <td>1.000000</td>\n",
       "      <td>-0.014494</td>\n",
       "      <td>-0.035840</td>\n",
       "      <td>0.080647</td>\n",
       "      <td>0.136409</td>\n",
       "      <td>-0.268956</td>\n",
       "      <td>-0.268956</td>\n",
       "    </tr>\n",
       "    <tr>\n",
       "      <th>NU_NOTA_CH</th>\n",
       "      <td>-0.025482</td>\n",
       "      <td>0.032822</td>\n",
       "      <td>-0.047493</td>\n",
       "      <td>0.083161</td>\n",
       "      <td>-0.014494</td>\n",
       "      <td>1.000000</td>\n",
       "      <td>0.761726</td>\n",
       "      <td>0.675749</td>\n",
       "      <td>0.575208</td>\n",
       "      <td>0.052848</td>\n",
       "      <td>0.052848</td>\n",
       "    </tr>\n",
       "    <tr>\n",
       "      <th>NU_NOTA_LC</th>\n",
       "      <td>-0.090521</td>\n",
       "      <td>0.010626</td>\n",
       "      <td>-0.030388</td>\n",
       "      <td>0.040619</td>\n",
       "      <td>-0.035840</td>\n",
       "      <td>0.761726</td>\n",
       "      <td>1.000000</td>\n",
       "      <td>0.645696</td>\n",
       "      <td>0.595660</td>\n",
       "      <td>0.085615</td>\n",
       "      <td>0.085615</td>\n",
       "    </tr>\n",
       "    <tr>\n",
       "      <th>NU_NOTA_MT</th>\n",
       "      <td>-0.147522</td>\n",
       "      <td>-0.017951</td>\n",
       "      <td>0.025688</td>\n",
       "      <td>-0.033206</td>\n",
       "      <td>0.080647</td>\n",
       "      <td>0.675749</td>\n",
       "      <td>0.645696</td>\n",
       "      <td>1.000000</td>\n",
       "      <td>0.582737</td>\n",
       "      <td>0.070612</td>\n",
       "      <td>0.070612</td>\n",
       "    </tr>\n",
       "    <tr>\n",
       "      <th>NU_NOTA_REDACAO</th>\n",
       "      <td>-0.230726</td>\n",
       "      <td>-0.037053</td>\n",
       "      <td>0.045574</td>\n",
       "      <td>-0.117215</td>\n",
       "      <td>0.136409</td>\n",
       "      <td>0.575208</td>\n",
       "      <td>0.595660</td>\n",
       "      <td>0.582737</td>\n",
       "      <td>1.000000</td>\n",
       "      <td>0.048528</td>\n",
       "      <td>0.048528</td>\n",
       "    </tr>\n",
       "    <tr>\n",
       "      <th>ST_CONCLUSAO</th>\n",
       "      <td>-0.251189</td>\n",
       "      <td>-0.045798</td>\n",
       "      <td>0.726079</td>\n",
       "      <td>-0.242413</td>\n",
       "      <td>-0.268956</td>\n",
       "      <td>0.052848</td>\n",
       "      <td>0.085615</td>\n",
       "      <td>0.070612</td>\n",
       "      <td>0.048528</td>\n",
       "      <td>1.000000</td>\n",
       "      <td>1.000000</td>\n",
       "    </tr>\n",
       "    <tr>\n",
       "      <th>IN_TREINEIRO</th>\n",
       "      <td>-0.251189</td>\n",
       "      <td>-0.045798</td>\n",
       "      <td>0.726079</td>\n",
       "      <td>-0.242413</td>\n",
       "      <td>-0.268956</td>\n",
       "      <td>0.052848</td>\n",
       "      <td>0.085615</td>\n",
       "      <td>0.070612</td>\n",
       "      <td>0.048528</td>\n",
       "      <td>1.000000</td>\n",
       "      <td>1.000000</td>\n",
       "    </tr>\n",
       "  </tbody>\n",
       "</table>\n",
       "</div>"
      ],
      "text/plain": [
       "                 NU_IDADE  TP_ESTADO_CIVIL  TP_ST_CONCLUSAO  TP_ANO_CONCLUIU  \\\n",
       "NU_IDADE         1.000000         0.341019        -0.438196         0.759855   \n",
       "TP_ESTADO_CIVIL  0.341019         1.000000        -0.114079         0.287811   \n",
       "TP_ST_CONCLUSAO -0.438196        -0.114079         1.000000        -0.564240   \n",
       "TP_ANO_CONCLUIU  0.759855         0.287811        -0.564240         1.000000   \n",
       "TP_ESCOLA       -0.298808        -0.117727         0.352303        -0.444251   \n",
       "NU_NOTA_CH      -0.025482         0.032822        -0.047493         0.083161   \n",
       "NU_NOTA_LC      -0.090521         0.010626        -0.030388         0.040619   \n",
       "NU_NOTA_MT      -0.147522        -0.017951         0.025688        -0.033206   \n",
       "NU_NOTA_REDACAO -0.230726        -0.037053         0.045574        -0.117215   \n",
       "ST_CONCLUSAO    -0.251189        -0.045798         0.726079        -0.242413   \n",
       "IN_TREINEIRO    -0.251189        -0.045798         0.726079        -0.242413   \n",
       "\n",
       "                 TP_ESCOLA  NU_NOTA_CH  NU_NOTA_LC  NU_NOTA_MT  \\\n",
       "NU_IDADE         -0.298808   -0.025482   -0.090521   -0.147522   \n",
       "TP_ESTADO_CIVIL  -0.117727    0.032822    0.010626   -0.017951   \n",
       "TP_ST_CONCLUSAO   0.352303   -0.047493   -0.030388    0.025688   \n",
       "TP_ANO_CONCLUIU  -0.444251    0.083161    0.040619   -0.033206   \n",
       "TP_ESCOLA         1.000000   -0.014494   -0.035840    0.080647   \n",
       "NU_NOTA_CH       -0.014494    1.000000    0.761726    0.675749   \n",
       "NU_NOTA_LC       -0.035840    0.761726    1.000000    0.645696   \n",
       "NU_NOTA_MT        0.080647    0.675749    0.645696    1.000000   \n",
       "NU_NOTA_REDACAO   0.136409    0.575208    0.595660    0.582737   \n",
       "ST_CONCLUSAO     -0.268956    0.052848    0.085615    0.070612   \n",
       "IN_TREINEIRO     -0.268956    0.052848    0.085615    0.070612   \n",
       "\n",
       "                 NU_NOTA_REDACAO  ST_CONCLUSAO  IN_TREINEIRO  \n",
       "NU_IDADE               -0.230726     -0.251189     -0.251189  \n",
       "TP_ESTADO_CIVIL        -0.037053     -0.045798     -0.045798  \n",
       "TP_ST_CONCLUSAO         0.045574      0.726079      0.726079  \n",
       "TP_ANO_CONCLUIU        -0.117215     -0.242413     -0.242413  \n",
       "TP_ESCOLA               0.136409     -0.268956     -0.268956  \n",
       "NU_NOTA_CH              0.575208      0.052848      0.052848  \n",
       "NU_NOTA_LC              0.595660      0.085615      0.085615  \n",
       "NU_NOTA_MT              0.582737      0.070612      0.070612  \n",
       "NU_NOTA_REDACAO         1.000000      0.048528      0.048528  \n",
       "ST_CONCLUSAO            0.048528      1.000000      1.000000  \n",
       "IN_TREINEIRO            0.048528      1.000000      1.000000  "
      ]
     },
     "execution_count": 23,
     "metadata": {},
     "output_type": "execute_result"
    }
   ],
   "source": [
    "corr"
   ]
  },
  {
   "cell_type": "code",
   "execution_count": 24,
   "metadata": {},
   "outputs": [
    {
     "data": {
      "image/png": "[encoded data removed]",
      "text/plain": [
       "<Figure size 288x288 with 1 Axes>"
      ]
     },
     "metadata": {
      "needs_background": "light"
     },
     "output_type": "display_data"
    }
   ],
   "source": [
    "plt.matshow(df_2.corr())\n",
    "plt.show()"
   ]
  },
  {
   "cell_type": "code",
   "execution_count": 25,
   "metadata": {},
   "outputs": [
    {
     "data": {
      "image/png": "[encoded data removed]",
      "text/plain": [
       "<Figure size 432x288 with 2 Axes>"
      ]
     },
     "metadata": {},
     "output_type": "display_data"
    }
   ],
   "source": [
    "import numpy as np; np.random.seed(0)\n",
    "import seaborn as sns; sns.set_theme()\n",
    "ax = sns.heatmap(corr)"
   ]
  },
  {
   "cell_type": "code",
   "execution_count": 30,
   "metadata": {},
   "outputs": [
    {
     "data": {
      "text/plain": [
       "-0.14752197962606128"
      ]
     },
     "execution_count": 30,
     "metadata": {},
     "output_type": "execute_result"
    }
   ],
   "source": [
    "df_2['NU_IDADE'].corr(df_2['NU_NOTA_MT'])"
   ]
  },
  {
   "cell_type": "code",
   "execution_count": 31,
   "metadata": {},
   "outputs": [
    {
     "data": {
      "text/plain": [
       "-0.25118920951934953"
      ]
     },
     "execution_count": 31,
     "metadata": {},
     "output_type": "execute_result"
    }
   ],
   "source": [
    "df_2['NU_IDADE'].corr(df_2['ST_CONCLUSAO'])"
   ]
  },
  {
   "cell_type": "code",
   "execution_count": 32,
   "metadata": {},
   "outputs": [
    {
     "data": {
      "text/plain": [
       "0.13640924833378365"
      ]
     },
     "execution_count": 32,
     "metadata": {},
     "output_type": "execute_result"
    }
   ],
   "source": [
    "df_2['TP_ESCOLA'].corr(df_2['NU_NOTA_REDACAO'])"
   ]
  },
  {
   "cell_type": "code",
   "execution_count": 37,
   "metadata": {},
   "outputs": [
    {
     "data": {
      "text/plain": [
       "0.5956599341093048"
      ]
     },
     "execution_count": 37,
     "metadata": {},
     "output_type": "execute_result"
    }
   ],
   "source": [
    "df_2['NU_NOTA_LC'].corr(df_2['NU_NOTA_REDACAO'])"
   ]
  },
  {
   "cell_type": "code",
   "execution_count": 44,
   "metadata": {},
   "outputs": [
    {
     "data": {
      "text/plain": [
       "0.7222981083209868"
      ]
     },
     "execution_count": 44,
     "metadata": {},
     "output_type": "execute_result"
    }
   ],
   "source": [
    "df_2['NU_NOTA_CN'].corr(df_2['NU_NOTA_MT'])"
   ]
  },
  {
   "cell_type": "code",
   "execution_count": 45,
   "metadata": {},
   "outputs": [
    {
     "data": {
      "text/plain": [
       "0.6660445942931228"
      ]
     },
     "execution_count": 45,
     "metadata": {},
     "output_type": "execute_result"
    }
   ],
   "source": [
    "df_2['NU_NOTA_CN'].corr(df_2['NU_NOTA_LC'])"
   ]
  },
  {
   "cell_type": "code",
   "execution_count": 46,
   "metadata": {},
   "outputs": [
    {
     "data": {
      "text/plain": [
       "0.7617258547095983"
      ]
     },
     "execution_count": 46,
     "metadata": {},
     "output_type": "execute_result"
    }
   ],
   "source": [
    "df_2['NU_NOTA_LC'].corr(df_2['NU_NOTA_CH'])"
   ]
  },
  {
   "cell_type": "code",
   "execution_count": 47,
   "metadata": {},
   "outputs": [
    {
     "data": {
      "text/plain": [
       "0.6870377808315411"
      ]
     },
     "execution_count": 47,
     "metadata": {},
     "output_type": "execute_result"
    }
   ],
   "source": [
    "df_2['NU_NOTA_CN'].corr(df_2['NU_NOTA_CH'])"
   ]
  },
  {
   "cell_type": "code",
   "execution_count": 49,
   "metadata": {},
   "outputs": [
    {
     "data": {
      "image/png": "[encoded data removed]",
      "text/plain": [
       "<Figure size 432x288 with 2 Axes>"
      ]
     },
     "metadata": {},
     "output_type": "display_data"
    }
   ],
   "source": [
    "import numpy as np; np.random.seed(0)\n",
    "import seaborn as sns; sns.set_theme()\n",
    "ax = sns.heatmap(corr)"
   ]
  },
  {
   "cell_type": "code",
   "execution_count": 50,
   "metadata": {},
   "outputs": [],
   "source": [
    "cols = ['NU_IDADE', 'NU_NOTA_CH','NU_NOTA_CN', 'NU_NOTA_LC','NU_NOTA_MT',\n",
    "        'NU_NOTA_REDACAO']"
   ]
  },
  {
   "cell_type": "code",
   "execution_count": 52,
   "metadata": {},
   "outputs": [],
   "source": [
    "df_3 = df[cols]\n",
    "df_3 = df_3.dropna()\n",
    "corr = df_3.corr()"
   ]
  },
  {
   "cell_type": "code",
   "execution_count": 53,
   "metadata": {},
   "outputs": [
    {
     "data": {
      "image/png": "[encoded data removed]",
      "text/plain": [
       "<Figure size 432x288 with 2 Axes>"
      ]
     },
     "metadata": {},
     "output_type": "display_data"
    }
   ],
   "source": [
    "import numpy as np; np.random.seed(0)\n",
    "import seaborn as sns; sns.set_theme()\n",
    "ax = sns.heatmap(corr)"
   ]
  },
  {
   "cell_type": "code",
   "execution_count": 58,
   "metadata": {},
   "outputs": [
    {
     "data": {
      "text/html": [
       "<div>\n",
       "<style scoped>\n",
       "    .dataframe tbody tr th:only-of-type {\n",
       "        vertical-align: middle;\n",
       "    }\n",
       "\n",
       "    .dataframe tbody tr th {\n",
       "        vertical-align: top;\n",
       "    }\n",
       "\n",
       "    .dataframe thead th {\n",
       "        text-align: right;\n",
       "    }\n",
       "</style>\n",
       "<table border=\"1\" class=\"dataframe\">\n",
       "  <thead>\n",
       "    <tr style=\"text-align: right;\">\n",
       "      <th></th>\n",
       "      <th>NU_IDADE</th>\n",
       "      <th>NU_NOTA_CH</th>\n",
       "      <th>NU_NOTA_CN</th>\n",
       "      <th>NU_NOTA_LC</th>\n",
       "      <th>NU_NOTA_MT</th>\n",
       "      <th>NU_NOTA_REDACAO</th>\n",
       "    </tr>\n",
       "  </thead>\n",
       "  <tbody>\n",
       "    <tr>\n",
       "      <th>NU_IDADE</th>\n",
       "      <td>1.000000</td>\n",
       "      <td>-0.025482</td>\n",
       "      <td>-0.068471</td>\n",
       "      <td>-0.090521</td>\n",
       "      <td>-0.147522</td>\n",
       "      <td>-0.230726</td>\n",
       "    </tr>\n",
       "    <tr>\n",
       "      <th>NU_NOTA_CH</th>\n",
       "      <td>-0.025482</td>\n",
       "      <td>1.000000</td>\n",
       "      <td>0.687038</td>\n",
       "      <td>0.761726</td>\n",
       "      <td>0.675749</td>\n",
       "      <td>0.575208</td>\n",
       "    </tr>\n",
       "    <tr>\n",
       "      <th>NU_NOTA_CN</th>\n",
       "      <td>-0.068471</td>\n",
       "      <td>0.687038</td>\n",
       "      <td>1.000000</td>\n",
       "      <td>0.666045</td>\n",
       "      <td>0.722298</td>\n",
       "      <td>0.576541</td>\n",
       "    </tr>\n",
       "    <tr>\n",
       "      <th>NU_NOTA_LC</th>\n",
       "      <td>-0.090521</td>\n",
       "      <td>0.761726</td>\n",
       "      <td>0.666045</td>\n",
       "      <td>1.000000</td>\n",
       "      <td>0.645696</td>\n",
       "      <td>0.595660</td>\n",
       "    </tr>\n",
       "    <tr>\n",
       "      <th>NU_NOTA_MT</th>\n",
       "      <td>-0.147522</td>\n",
       "      <td>0.675749</td>\n",
       "      <td>0.722298</td>\n",
       "      <td>0.645696</td>\n",
       "      <td>1.000000</td>\n",
       "      <td>0.582737</td>\n",
       "    </tr>\n",
       "    <tr>\n",
       "      <th>NU_NOTA_REDACAO</th>\n",
       "      <td>-0.230726</td>\n",
       "      <td>0.575208</td>\n",
       "      <td>0.576541</td>\n",
       "      <td>0.595660</td>\n",
       "      <td>0.582737</td>\n",
       "      <td>1.000000</td>\n",
       "    </tr>\n",
       "  </tbody>\n",
       "</table>\n",
       "</div>"
      ],
      "text/plain": [
       "                 NU_IDADE  NU_NOTA_CH  NU_NOTA_CN  NU_NOTA_LC  NU_NOTA_MT  \\\n",
       "NU_IDADE         1.000000   -0.025482   -0.068471   -0.090521   -0.147522   \n",
       "NU_NOTA_CH      -0.025482    1.000000    0.687038    0.761726    0.675749   \n",
       "NU_NOTA_CN      -0.068471    0.687038    1.000000    0.666045    0.722298   \n",
       "NU_NOTA_LC      -0.090521    0.761726    0.666045    1.000000    0.645696   \n",
       "NU_NOTA_MT      -0.147522    0.675749    0.722298    0.645696    1.000000   \n",
       "NU_NOTA_REDACAO -0.230726    0.575208    0.576541    0.595660    0.582737   \n",
       "\n",
       "                 NU_NOTA_REDACAO  \n",
       "NU_IDADE               -0.230726  \n",
       "NU_NOTA_CH              0.575208  \n",
       "NU_NOTA_CN              0.576541  \n",
       "NU_NOTA_LC              0.595660  \n",
       "NU_NOTA_MT              0.582737  \n",
       "NU_NOTA_REDACAO         1.000000  "
      ]
     },
     "execution_count": 58,
     "metadata": {},
     "output_type": "execute_result"
    }
   ],
   "source": [
    "corr"
   ]
  },
  {
   "cell_type": "code",
   "execution_count": null,
   "metadata": {},
   "outputs": [],
   "source": []
  }
 ],
 "metadata": {
  "kernelspec": {
   "display_name": "Python 3",
   "language": "python",
   "name": "python3"
  },
  "language_info": {
   "codemirror_mode": {
    "name": "ipython",
    "version": 3
   },
   "file_extension": ".py",
   "mimetype": "text/x-python",
   "name": "python",
   "nbconvert_exporter": "python",
   "pygments_lexer": "ipython3",
   "version": "3.6.9"
  }
 },
 "nbformat": 4,
 "nbformat_minor": 4
}
